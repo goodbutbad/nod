{
 "cells": [
  {
   "cell_type": "markdown",
   "id": "3e7e1f29-5a70-4d24-8f7f-c69118d424e6",
   "metadata": {},
   "source": [
    "# 06.09  наука о данных\n"
   ]
  },
  {
   "cell_type": "markdown",
   "id": "01f5e260-a266-45b6-9f11-6a708aa5fdfa",
   "metadata": {},
   "source": [
    "JOEL BRUS-книга Data science from scratch  "
   ]
  },
  {
   "cell_type": "markdown",
   "id": "300da4e0-c3a1-42a0-a95a-60f18c912ec8",
   "metadata": {},
   "source": [
    "наука данных (data science) - это наука связанное с данными (обработка,сбор, анализ и поиском эффективных решений на основе данных\n",
    "Дфтф - сайентисты собирают неструктурированные данные, анализируют их с помощью мат.моделей и делают из них выводы\n"
   ]
  },
  {
   "cell_type": "markdown",
   "id": "d8d4e73d-b0c4-49fb-aa28-e33ff3db2cde",
   "metadata": {},
   "source": [
    "план этапов в обработке\n",
    "1. *Сбор* Каждый раз нужно определить объем и структуру данных и собрать их в удобной для обработки форме. Нужно определиться с целями анализа данных и подобрать нужные методы для следующих этапов.\n",
    "\n",
    "2. *Подготовка* Включает создание архитектуры базы данных и системы их хранения, проверку и очистку от нерелевантных значений (валидацию).\n",
    "\n",
    "3. *Обработка* На этом этапе проводятся кластеризация и классификация (разделение на выборки и группы), применяются математические модели и программные методы, например машинное обучение.\n",
    "\n",
    "4. *Анализ* Дата-сайентист изучает результаты моделирования и ищет ответы на изначальные гипотезы, проводит качественный и количественный анализ. Например, находит ошибки в бизнес-процессах или прогнозирует поведение данных в будущем.\n",
    "\n",
    "5. *Коммуникация* Включает визуализацию данных, создание аналитических отчетов и предложений: какие решения на основе данных можно принять, чтобы бизнес работал эффективнее."
   ]
  },
  {
   "cell_type": "markdown",
   "id": "2c2cef60-fe19-443f-a024-884580871bad",
   "metadata": {},
   "source": [
    "Основные термины\n",
    "**BIG DATA** (большие данные) — гигантские массивы информации, которую генерируют большие информационные системы, например соцсети и сотовая связь.\n",
    "\n",
    "*Математическое моделирование — использование математики и статистики для поиска закономерностей в данных. \n",
    "Например, временные ряды (графики изменения величин во времени) анализируют с помощью регрессионных моделей, которые помогают найти \n",
    "зависимости между переменными.\n",
    "\n",
    "**Data Mining** (добыча или интеллектуальный анализ данных) — процесс поиска неизвестных ранее закономерностей (паттернов) и полезных знаний в \n",
    "больших базах «сырых» данных. Например, банк имеет базу данных о всех транзакциях клиентов, но ничего не знает о возможных преступниках среди них. \n",
    "Data Mining может помочь найти среди миллионов клиентов тех, кто получает переводы из сомнительных источников.\n",
    "\n",
    "**Tree-based-алгоритмы** — использование метода «дерева решений» в Data Mining. Метод классифицирует данные по принадлежности к определенным признакам, \n",
    "пока у каждого блока данных не будет значения по каждому признаку. Например, всех клиентов банка можно классифицировать по полу, возрасту и среднему\n",
    "доходу. Это поможет найти мужчин 18–50 лет с высоким доходом, которым можно предложить скидку на элитный фитнес-центр от партнера.\n",
    "\n",
    "**Machine Learning** (машинное обучение) — это наука, которая занимается изучением алгоритмов для работы с данными, чтобы автоматизировать в дальнейшем\n",
    "процесс обработки новых данных. Например, зная всех клиентов банка, которые выплатили кредиты и которые не смогли выплатить, мы можем построить такую\n",
    "модель, которая будет решать, каким клиентам стоит выдавать деньги. Такая задача называется задачей классификации.\n",
    "\n",
    "**Feature Engineering** (конструирование признаков) — процесс подготовки необработанных данных для обучения ML-моделей. \n",
    "Чтобы модели было легче обучаться, нужно выделить из данных новые признаки, например добавить новый признак клиенту на основе усреднения суммы\n",
    "его покупок (средний чек).\n",
    "Deep Learning (глубокое обучение) — метод машинного обучения с использованием сложных многослойных нейронных сетей.\n"
   ]
  },
  {
   "cell_type": "markdown",
   "id": "d360e2c0-38e0-43a0-b17e-fa21205e0afc",
   "metadata": {},
   "source": [
    "# introduction to data science"
   ]
  },
  {
   "cell_type": "markdown",
   "id": "f5c4b3ad-d070-4c31-9075-8db65faba80d",
   "metadata": {},
   "source": [
    "Необходимые инструменты для Data Science\n",
    "\n",
    "\t1.\tЯзыки программирования: Python  — самые популярные.\n",
    "\t\n",
    "    2.\tБиблиотеки Python:\n",
    "\t•\tpandas — для работы с табличными данными.\n",
    "\t•\tNumPy — для числовых вычислений.\n",
    "\t•\tmatplotlib и seaborn — для визуализации.\n",
    "\t•\tscikit-learn — для машинного обучения.\n",
    "\t•\tTensorFlow и PyTorch — для работы с нейронными сетями.\n",
    "\t\n",
    " \n",
    "    3.\tSQL — для работы с базами данных.\n",
    "\t\n",
    "    4.\tJupyter Notebook — среда для написания и выполнения кода с визуализацией результатов анализа.\n",
    "\n",
    "\t5.\tПрактика:\n",
    "\t•\tKaggle — платформа для соревнований по анализу данных, где можно решать реальные задачи и соревноваться с другими специалистами.\n",
    "\n",
    "Заключение\n",
    "\n",
    "Наука о данных — это динамично развивающаяся область, которая востребована в разных отраслях: от медицины до маркетинга. Для того чтобы стать специалистом в этой сфере, важно владеть основными инструментами и методами анализа данных, понимать статистику и быть готовым к постоянному обучению."
   ]
  },
  {
   "cell_type": "markdown",
   "id": "b377c751-4b27-41d7-b274-b83f7e76adff",
   "metadata": {},
   "source": [
    "# Основные команды для работы с данными в Pandas\n",
    "\n",
    "В Data Science работа с данными обычно начинается с загрузки данных в DataFrame, что позволяет легко их анализировать и обрабатывать. Ниже приведены основные команды для работы с Pandas DataFrame в Python.\n"
   ]
  },
  {
   "cell_type": "code",
   "execution_count": 3,
   "id": "959607d3-380d-43d3-8f38-adda8fd014e7",
   "metadata": {},
   "outputs": [
    {
     "name": "stdout",
     "output_type": "stream",
     "text": [
      "      Name  Age         City\n",
      "0    Alice   25     New York\n",
      "1      Bob   30  Los Angeles\n",
      "2  Charlie   35      Chicago\n"
     ]
    }
   ],
   "source": [
    "#  1. Создание DataFrame\n",
    "\n",
    "import pandas as pd\n",
    "data = {\n",
    "    'Name': ['Alice', 'Bob', 'Charlie'],\n",
    "    'Age': [25, 30, 35],\n",
    "    'City': ['New York', 'Los Angeles', 'Chicago']\n",
    "}\n",
    "df = pd.DataFrame(data)\n",
    "print(df)"
   ]
  },
  {
   "cell_type": "markdown",
   "id": "054d2bb8-3e4e-4f97-bdd4-4733e7d5b82e",
   "metadata": {},
   "source": [
    " 2. Первичный обзор данных\n",
    "\n",
    "Для того чтобы посмотреть на начало и конец данных, используются следующие команды:\n",
    "\n",
    "\t•\tdf.head() — отображает первые 5 строк DataFrame.\n",
    "\t•\tdf.tail() — отображает последние 5 строк DataFrame.\n",
    "\n",
    " Вы можете указать число строк, которое хотите увидеть:\n",
    "\n",
    "• df.head(10)                    # Покажет первые 10 строк\n",
    "• df.tail(3)                     # Покажет последние 3 строки\n",
    "\n",
    "Пример:\n",
    "\n",
    "\n"
   ]
  },
  {
   "cell_type": "code",
   "execution_count": 5,
   "id": "8bec483e-c0e3-415c-9314-43c2d9dea4c1",
   "metadata": {},
   "outputs": [
    {
     "data": {
      "text/html": [
       "<div>\n",
       "<style scoped>\n",
       "    .dataframe tbody tr th:only-of-type {\n",
       "        vertical-align: middle;\n",
       "    }\n",
       "\n",
       "    .dataframe tbody tr th {\n",
       "        vertical-align: top;\n",
       "    }\n",
       "\n",
       "    .dataframe thead th {\n",
       "        text-align: right;\n",
       "    }\n",
       "</style>\n",
       "<table border=\"1\" class=\"dataframe\">\n",
       "  <thead>\n",
       "    <tr style=\"text-align: right;\">\n",
       "      <th></th>\n",
       "      <th>Name</th>\n",
       "      <th>Age</th>\n",
       "      <th>City</th>\n",
       "    </tr>\n",
       "  </thead>\n",
       "  <tbody>\n",
       "    <tr>\n",
       "      <th>0</th>\n",
       "      <td>Alice</td>\n",
       "      <td>25</td>\n",
       "      <td>New York</td>\n",
       "    </tr>\n",
       "    <tr>\n",
       "      <th>1</th>\n",
       "      <td>Bob</td>\n",
       "      <td>30</td>\n",
       "      <td>Los Angeles</td>\n",
       "    </tr>\n",
       "    <tr>\n",
       "      <th>2</th>\n",
       "      <td>Charlie</td>\n",
       "      <td>35</td>\n",
       "      <td>Chicago</td>\n",
       "    </tr>\n",
       "  </tbody>\n",
       "</table>\n",
       "</div>"
      ],
      "text/plain": [
       "      Name  Age         City\n",
       "0    Alice   25     New York\n",
       "1      Bob   30  Los Angeles\n",
       "2  Charlie   35      Chicago"
      ]
     },
     "execution_count": 5,
     "metadata": {},
     "output_type": "execute_result"
    }
   ],
   "source": [
    "df.head()  # Показывает первые 5 строк\n",
    "df.tail()  # Показывает последние 5 строк"
   ]
  },
  {
   "cell_type": "markdown",
   "id": "5f792f36-8502-4384-8033-a4ec081e4ce8",
   "metadata": {},
   "source": [
    "3. Информация о DataFrame\n",
    "\n",
    "\t•\tdf.info() — выведет информацию о DataFrame: типы данных, количество ненулевых значений и использование памяти.\n"
   ]
  },
  {
   "cell_type": "code",
   "execution_count": 6,
   "id": "c233497e-9743-4996-beb0-6c98ba53d0bb",
   "metadata": {},
   "outputs": [
    {
     "name": "stdout",
     "output_type": "stream",
     "text": [
      "<class 'pandas.core.frame.DataFrame'>\n",
      "RangeIndex: 3 entries, 0 to 2\n",
      "Data columns (total 3 columns):\n",
      " #   Column  Non-Null Count  Dtype \n",
      "---  ------  --------------  ----- \n",
      " 0   Name    3 non-null      object\n",
      " 1   Age     3 non-null      int64 \n",
      " 2   City    3 non-null      object\n",
      "dtypes: int64(1), object(2)\n",
      "memory usage: 204.0+ bytes\n"
     ]
    }
   ],
   "source": [
    "df.info()"
   ]
  },
  {
   "cell_type": "code",
   "execution_count": 7,
   "id": "19ae9d30-e33a-41df-aa38-8ac7f8d1eda3",
   "metadata": {},
   "outputs": [
    {
     "data": {
      "text/html": [
       "<div>\n",
       "<style scoped>\n",
       "    .dataframe tbody tr th:only-of-type {\n",
       "        vertical-align: middle;\n",
       "    }\n",
       "\n",
       "    .dataframe tbody tr th {\n",
       "        vertical-align: top;\n",
       "    }\n",
       "\n",
       "    .dataframe thead th {\n",
       "        text-align: right;\n",
       "    }\n",
       "</style>\n",
       "<table border=\"1\" class=\"dataframe\">\n",
       "  <thead>\n",
       "    <tr style=\"text-align: right;\">\n",
       "      <th></th>\n",
       "      <th>Age</th>\n",
       "    </tr>\n",
       "  </thead>\n",
       "  <tbody>\n",
       "    <tr>\n",
       "      <th>count</th>\n",
       "      <td>3.0</td>\n",
       "    </tr>\n",
       "    <tr>\n",
       "      <th>mean</th>\n",
       "      <td>30.0</td>\n",
       "    </tr>\n",
       "    <tr>\n",
       "      <th>std</th>\n",
       "      <td>5.0</td>\n",
       "    </tr>\n",
       "    <tr>\n",
       "      <th>min</th>\n",
       "      <td>25.0</td>\n",
       "    </tr>\n",
       "    <tr>\n",
       "      <th>25%</th>\n",
       "      <td>27.5</td>\n",
       "    </tr>\n",
       "    <tr>\n",
       "      <th>50%</th>\n",
       "      <td>30.0</td>\n",
       "    </tr>\n",
       "    <tr>\n",
       "      <th>75%</th>\n",
       "      <td>32.5</td>\n",
       "    </tr>\n",
       "    <tr>\n",
       "      <th>max</th>\n",
       "      <td>35.0</td>\n",
       "    </tr>\n",
       "  </tbody>\n",
       "</table>\n",
       "</div>"
      ],
      "text/plain": [
       "        Age\n",
       "count   3.0\n",
       "mean   30.0\n",
       "std     5.0\n",
       "min    25.0\n",
       "25%    27.5\n",
       "50%    30.0\n",
       "75%    32.5\n",
       "max    35.0"
      ]
     },
     "execution_count": 7,
     "metadata": {},
     "output_type": "execute_result"
    }
   ],
   "source": [
    "# •\tdf.describe() — выводит основные статистические характеристики числовых столбцов: среднее, медиана, стандартное отклонение и т.д.\n",
    "df.describe()\n",
    "\n"
   ]
  },
  {
   "cell_type": "code",
   "execution_count": 8,
   "id": "742cb7ea-2ed6-4bac-820c-d23951f35b37",
   "metadata": {},
   "outputs": [
    {
     "data": {
      "text/plain": [
       "0    25\n",
       "1    30\n",
       "2    35\n",
       "Name: Age, dtype: int64"
      ]
     },
     "execution_count": 8,
     "metadata": {},
     "output_type": "execute_result"
    }
   ],
   "source": [
    "#            4. Получение данных из DataFrame\n",
    "#        \tdf[‘column_name’] — извлекает данные по отдельному столбцу.\n",
    "\n",
    "df['Age']  # Доступ к столбцу Age\n"
   ]
  },
  {
   "cell_type": "code",
   "execution_count": 9,
   "id": "a529e384-060e-40f6-b807-d9842e866c13",
   "metadata": {},
   "outputs": [
    {
     "data": {
      "text/html": [
       "<div>\n",
       "<style scoped>\n",
       "    .dataframe tbody tr th:only-of-type {\n",
       "        vertical-align: middle;\n",
       "    }\n",
       "\n",
       "    .dataframe tbody tr th {\n",
       "        vertical-align: top;\n",
       "    }\n",
       "\n",
       "    .dataframe thead th {\n",
       "        text-align: right;\n",
       "    }\n",
       "</style>\n",
       "<table border=\"1\" class=\"dataframe\">\n",
       "  <thead>\n",
       "    <tr style=\"text-align: right;\">\n",
       "      <th></th>\n",
       "      <th>Name</th>\n",
       "      <th>City</th>\n",
       "    </tr>\n",
       "  </thead>\n",
       "  <tbody>\n",
       "    <tr>\n",
       "      <th>0</th>\n",
       "      <td>Alice</td>\n",
       "      <td>New York</td>\n",
       "    </tr>\n",
       "    <tr>\n",
       "      <th>1</th>\n",
       "      <td>Bob</td>\n",
       "      <td>Los Angeles</td>\n",
       "    </tr>\n",
       "    <tr>\n",
       "      <th>2</th>\n",
       "      <td>Charlie</td>\n",
       "      <td>Chicago</td>\n",
       "    </tr>\n",
       "  </tbody>\n",
       "</table>\n",
       "</div>"
      ],
      "text/plain": [
       "      Name         City\n",
       "0    Alice     New York\n",
       "1      Bob  Los Angeles\n",
       "2  Charlie      Chicago"
      ]
     },
     "execution_count": 9,
     "metadata": {},
     "output_type": "execute_result"
    }
   ],
   "source": [
    "# df[[‘column1’, ‘column2’]] — доступ к нескольким столбцам сразу.\n",
    "\n",
    "df[['Name', 'City']]  # Доступ к двум столбцам\n",
    "\n"
   ]
  },
  {
   "cell_type": "code",
   "execution_count": 14,
   "id": "c88e3e3b-9f29-4556-91e1-c1120f8c897e",
   "metadata": {},
   "outputs": [
    {
     "data": {
      "text/plain": [
       "0    25\n",
       "1    30\n",
       "2    35\n",
       "Name: Age, dtype: int64"
      ]
     },
     "execution_count": 14,
     "metadata": {},
     "output_type": "execute_result"
    }
   ],
   "source": [
    "df.loc[0]    #доступ к строкам\n",
    "df.loc[:, 'Age']   # доступ ко всем строкам столбца age"
   ]
  },
  {
   "cell_type": "markdown",
   "id": "39728f64-8674-4cc3-8c35-4ec07f17e29b",
   "metadata": {},
   "source": [
    "# добавление новых столбцов\n",
    "мы можем добаваить новый столбец в DataFrame выполняя простое присваивание"
   ]
  },
  {
   "cell_type": "code",
   "execution_count": 16,
   "id": "9b5ef860-7c91-4bfc-b033-6b73a90c939f",
   "metadata": {},
   "outputs": [
    {
     "name": "stdout",
     "output_type": "stream",
     "text": [
      "      Name  Age         City Country\n",
      "0    Alice   25     New York     USA\n",
      "1      Bob   30  Los Angeles     USA\n",
      "2  Charlie   35      Chicago     USA\n"
     ]
    }
   ],
   "source": [
    "df['Country']=['USA', 'USA', 'USA'] # добавляем новый столбец country\n",
    "print(df)"
   ]
  },
  {
   "cell_type": "markdown",
   "id": "3cbc7b82-1758-471e-8d84-b5ec6f230afa",
   "metadata": {},
   "source": [
    "# фильтрация данных\n",
    "для фильтрации строк можно использовать условные выражения"
   ]
  },
  {
   "cell_type": "code",
   "execution_count": 18,
   "id": "cc9dcab9-9993-4dd2-ab00-13717321396f",
   "metadata": {},
   "outputs": [
    {
     "data": {
      "text/html": [
       "<div>\n",
       "<style scoped>\n",
       "    .dataframe tbody tr th:only-of-type {\n",
       "        vertical-align: middle;\n",
       "    }\n",
       "\n",
       "    .dataframe tbody tr th {\n",
       "        vertical-align: top;\n",
       "    }\n",
       "\n",
       "    .dataframe thead th {\n",
       "        text-align: right;\n",
       "    }\n",
       "</style>\n",
       "<table border=\"1\" class=\"dataframe\">\n",
       "  <thead>\n",
       "    <tr style=\"text-align: right;\">\n",
       "      <th></th>\n",
       "      <th>Name</th>\n",
       "      <th>Age</th>\n",
       "      <th>City</th>\n",
       "      <th>Country</th>\n",
       "    </tr>\n",
       "  </thead>\n",
       "  <tbody>\n",
       "    <tr>\n",
       "      <th>0</th>\n",
       "      <td>Alice</td>\n",
       "      <td>25</td>\n",
       "      <td>New York</td>\n",
       "      <td>USA</td>\n",
       "    </tr>\n",
       "  </tbody>\n",
       "</table>\n",
       "</div>"
      ],
      "text/plain": [
       "    Name  Age      City Country\n",
       "0  Alice   25  New York     USA"
      ]
     },
     "execution_count": 18,
     "metadata": {},
     "output_type": "execute_result"
    }
   ],
   "source": [
    "df[(df['Age']>20)&(df['City']=='New York')] #выбирает строки где возраст больше 25и город нью-йорк"
   ]
  },
  {
   "cell_type": "code",
   "execution_count": 20,
   "id": "92d9538c-9e68-4681-9f0d-bab1db11c252",
   "metadata": {},
   "outputs": [
    {
     "data": {
      "text/html": [
       "<div>\n",
       "<style scoped>\n",
       "    .dataframe tbody tr th:only-of-type {\n",
       "        vertical-align: middle;\n",
       "    }\n",
       "\n",
       "    .dataframe tbody tr th {\n",
       "        vertical-align: top;\n",
       "    }\n",
       "\n",
       "    .dataframe thead th {\n",
       "        text-align: right;\n",
       "    }\n",
       "</style>\n",
       "<table border=\"1\" class=\"dataframe\">\n",
       "  <thead>\n",
       "    <tr style=\"text-align: right;\">\n",
       "      <th></th>\n",
       "      <th>Name</th>\n",
       "      <th>Age</th>\n",
       "      <th>City</th>\n",
       "      <th>Country</th>\n",
       "    </tr>\n",
       "  </thead>\n",
       "  <tbody>\n",
       "    <tr>\n",
       "      <th>0</th>\n",
       "      <td>Alice</td>\n",
       "      <td>25</td>\n",
       "      <td>New York</td>\n",
       "      <td>USA</td>\n",
       "    </tr>\n",
       "    <tr>\n",
       "      <th>1</th>\n",
       "      <td>Bob</td>\n",
       "      <td>30</td>\n",
       "      <td>Los Angeles</td>\n",
       "      <td>USA</td>\n",
       "    </tr>\n",
       "    <tr>\n",
       "      <th>2</th>\n",
       "      <td>Charlie</td>\n",
       "      <td>35</td>\n",
       "      <td>Chicago</td>\n",
       "      <td>USA</td>\n",
       "    </tr>\n",
       "  </tbody>\n",
       "</table>\n",
       "</div>"
      ],
      "text/plain": [
       "      Name  Age         City Country\n",
       "0    Alice   25     New York     USA\n",
       "1      Bob   30  Los Angeles     USA\n",
       "2  Charlie   35      Chicago     USA"
      ]
     },
     "execution_count": 20,
     "metadata": {},
     "output_type": "execute_result"
    }
   ],
   "source": [
    "df[df['Age']>10] # фильтрация по возрасту"
   ]
  },
  {
   "cell_type": "markdown",
   "id": "43ca7927-afbc-410b-a3ac-118b174f570f",
   "metadata": {},
   "source": [
    " # Сортировка данных"
   ]
  },
  {
   "cell_type": "code",
   "execution_count": 22,
   "id": "51ee113e-6241-42d6-baed-d2a3394048ef",
   "metadata": {},
   "outputs": [
    {
     "data": {
      "text/html": [
       "<div>\n",
       "<style scoped>\n",
       "    .dataframe tbody tr th:only-of-type {\n",
       "        vertical-align: middle;\n",
       "    }\n",
       "\n",
       "    .dataframe tbody tr th {\n",
       "        vertical-align: top;\n",
       "    }\n",
       "\n",
       "    .dataframe thead th {\n",
       "        text-align: right;\n",
       "    }\n",
       "</style>\n",
       "<table border=\"1\" class=\"dataframe\">\n",
       "  <thead>\n",
       "    <tr style=\"text-align: right;\">\n",
       "      <th></th>\n",
       "      <th>Name</th>\n",
       "      <th>Age</th>\n",
       "      <th>City</th>\n",
       "      <th>Country</th>\n",
       "    </tr>\n",
       "  </thead>\n",
       "  <tbody>\n",
       "    <tr>\n",
       "      <th>0</th>\n",
       "      <td>Alice</td>\n",
       "      <td>25</td>\n",
       "      <td>New York</td>\n",
       "      <td>USA</td>\n",
       "    </tr>\n",
       "    <tr>\n",
       "      <th>1</th>\n",
       "      <td>Bob</td>\n",
       "      <td>30</td>\n",
       "      <td>Los Angeles</td>\n",
       "      <td>USA</td>\n",
       "    </tr>\n",
       "    <tr>\n",
       "      <th>2</th>\n",
       "      <td>Charlie</td>\n",
       "      <td>35</td>\n",
       "      <td>Chicago</td>\n",
       "      <td>USA</td>\n",
       "    </tr>\n",
       "  </tbody>\n",
       "</table>\n",
       "</div>"
      ],
      "text/plain": [
       "      Name  Age         City Country\n",
       "0    Alice   25     New York     USA\n",
       "1      Bob   30  Los Angeles     USA\n",
       "2  Charlie   35      Chicago     USA"
      ]
     },
     "execution_count": 22,
     "metadata": {},
     "output_type": "execute_result"
    }
   ],
   "source": [
    "df.sort_values('Age')"
   ]
  },
  {
   "cell_type": "code",
   "execution_count": 23,
   "id": "7dcc762b-113f-45cf-a301-82650ff7dd1c",
   "metadata": {},
   "outputs": [
    {
     "data": {
      "text/html": [
       "<div>\n",
       "<style scoped>\n",
       "    .dataframe tbody tr th:only-of-type {\n",
       "        vertical-align: middle;\n",
       "    }\n",
       "\n",
       "    .dataframe tbody tr th {\n",
       "        vertical-align: top;\n",
       "    }\n",
       "\n",
       "    .dataframe thead th {\n",
       "        text-align: right;\n",
       "    }\n",
       "</style>\n",
       "<table border=\"1\" class=\"dataframe\">\n",
       "  <thead>\n",
       "    <tr style=\"text-align: right;\">\n",
       "      <th></th>\n",
       "      <th>Name</th>\n",
       "      <th>Age</th>\n",
       "      <th>City</th>\n",
       "      <th>Country</th>\n",
       "    </tr>\n",
       "  </thead>\n",
       "  <tbody>\n",
       "    <tr>\n",
       "      <th>0</th>\n",
       "      <td>Alice</td>\n",
       "      <td>25</td>\n",
       "      <td>New York</td>\n",
       "      <td>USA</td>\n",
       "    </tr>\n",
       "    <tr>\n",
       "      <th>1</th>\n",
       "      <td>Bob</td>\n",
       "      <td>30</td>\n",
       "      <td>Los Angeles</td>\n",
       "      <td>USA</td>\n",
       "    </tr>\n",
       "    <tr>\n",
       "      <th>2</th>\n",
       "      <td>Charlie</td>\n",
       "      <td>35</td>\n",
       "      <td>Chicago</td>\n",
       "      <td>USA</td>\n",
       "    </tr>\n",
       "  </tbody>\n",
       "</table>\n",
       "</div>"
      ],
      "text/plain": [
       "      Name  Age         City Country\n",
       "0    Alice   25     New York     USA\n",
       "1      Bob   30  Los Angeles     USA\n",
       "2  Charlie   35      Chicago     USA"
      ]
     },
     "execution_count": 23,
     "metadata": {},
     "output_type": "execute_result"
    }
   ],
   "source": [
    "df.sort_values(['Age', 'Name'], ascending=[True, False])  # Сначала по возрасту, затем по имени"
   ]
  },
  {
   "cell_type": "markdown",
   "id": "94768820-c93d-4fd7-bf29-c77d0865a96b",
   "metadata": {},
   "source": [
    "# удаление строк и столбцов"
   ]
  },
  {
   "cell_type": "code",
   "execution_count": 2,
   "id": "e77f86c5-e833-4a4b-9e67-9b60a4e1b6f7",
   "metadata": {},
   "outputs": [
    {
     "name": "stdout",
     "output_type": "stream",
     "text": [
      "После удаления столбца 'City':\n",
      "      Name  Age\n",
      "0    Alice   25\n",
      "1      Bob   30\n",
      "2  Charlie   35\n",
      "3    David   40\n"
     ]
    }
   ],
   "source": [
    "import pandas as pd\n",
    "# Примерные данные\n",
    "data = {\n",
    "    'Name': ['Alice', 'Bob', 'Charlie', 'David'],\n",
    "    'Age': [25, 30, 35, 40],\n",
    "    'City': ['New York', 'Los Angeles', 'Chicago', 'Houston']\n",
    "}\n",
    "df = pd.DataFrame(data)  \n",
    "# Удаляем столбец 'City'\n",
    "df.drop('City', axis=1, inplace=True)\n",
    "\n",
    "print(\"После удаления столбца 'City':\")\n",
    "print(df)"
   ]
  },
  {
   "cell_type": "code",
   "execution_count": 3,
   "id": "e4d3ab6b-ed12-4319-8cad-d69de714bb02",
   "metadata": {},
   "outputs": [
    {
     "name": "stdout",
     "output_type": "stream",
     "text": [
      "После удаления строк с индексами 0 и 2:\n",
      "    Name  Age\n",
      "1    Bob   30\n",
      "3  David   40\n"
     ]
    }
   ],
   "source": [
    "# Удаляем строки с индексами 0 и 2\n",
    "df.drop([0, 2], axis=0, inplace=True)\n",
    "\n",
    "print(\"После удаления строк с индексами 0 и 2:\")\n",
    "print(df)"
   ]
  },
  {
   "cell_type": "markdown",
   "id": "0a3fe077-b2ab-43b7-ba88-06cdaaa314b7",
   "metadata": {},
   "source": [
    "# Метод fillna() \n",
    "в Pandas используется для замены пропущенных значений (NaN) в DataFrame на другие значения. Этот метод полезен для работы с отсутствующими данными, что часто встречается в реальных наборах данных.\n",
    "\n",
    "1.\tЗаполнение пропущенных значений одним значением:\n",
    "\n",
    "Если вы хотите заменить все пропущенные значения в DataFrame одним значением, например, нулем, используйте:\n"
   ]
  },
  {
   "cell_type": "code",
   "execution_count": 5,
   "id": "95bb7a1e-d392-444c-b3b6-9b264fdca055",
   "metadata": {},
   "outputs": [
    {
     "name": "stdout",
     "output_type": "stream",
     "text": [
      "      Name   Age      City\n",
      "0    Alice  25.0  New York\n",
      "1      Bob   NaN       NaN\n",
      "2  Charlie  35.0   Chicago\n",
      "3    David  40.0   Houston\n"
     ]
    }
   ],
   "source": [
    "import pandas as pd\n",
    "import numpy as np\n",
    "# Создание DataFrame с пропущенными значениями (NaN)\n",
    "data = {'Name': ['Alice', 'Bob', 'Charlie', 'David'],\n",
    "        'Age': [25, np.nan, 35, 40],\n",
    "        'City': ['New York', np.nan, 'Chicago', 'Houston']}\n",
    "df = pd.DataFrame(data)\n",
    "print(df)\n"
   ]
  },
  {
   "cell_type": "code",
   "execution_count": 7,
   "id": "df3e833e-dd00-46da-a101-9b1b237338b2",
   "metadata": {},
   "outputs": [
    {
     "name": "stdout",
     "output_type": "stream",
     "text": [
      "      Name   Age      City\n",
      "0    Alice  25.0  New York\n",
      "1      Bob   0.0         0\n",
      "2  Charlie  35.0   Chicago\n",
      "3    David  40.0   Houston\n"
     ]
    }
   ],
   "source": [
    "# Заполняем пропущенные значения в столбцах числом 0\n",
    "df.fillna(0, inplace=True)\n",
    "print(df)\n"
   ]
  },
  {
   "cell_type": "markdown",
   "id": "b2133d46-03d0-4303-94df-f29cadbcce28",
   "metadata": {},
   "source": [
    "Заполнение пропущенных значений в отдельных столбцах разными значениями:\n",
    "\n",
    "Вы можете заполнить пропущенные значения разными значениями для каждого столбца:\n"
   ]
  },
  {
   "cell_type": "code",
   "execution_count": 8,
   "id": "31640a8c-4af5-448f-ad18-fd4fc3d6283a",
   "metadata": {},
   "outputs": [
    {
     "name": "stdout",
     "output_type": "stream",
     "text": [
      "      Name   Age      City\n",
      "0    Alice  25.0  New York\n",
      "1      Bob   0.0         0\n",
      "2  Charlie  35.0   Chicago\n",
      "3    David  40.0   Houston\n"
     ]
    }
   ],
   "source": [
    "df.fillna({'Age': 0, 'City': 'Unknown'}, inplace=True)\n",
    "print(df)\n"
   ]
  },
  {
   "cell_type": "markdown",
   "id": "8ac44baa-8bb8-4847-b019-c7f4309439ba",
   "metadata": {},
   "source": [
    "Заполнение пропущенных значений предыдущим или следующим значением:\n",
    "\n",
    "Вы также можете заполнить пропущенные значения предыдущим значением из того же столбца:\n"
   ]
  },
  {
   "cell_type": "code",
   "execution_count": 9,
   "id": "befd2160-3112-4164-b73b-778ec1754031",
   "metadata": {},
   "outputs": [
    {
     "name": "stderr",
     "output_type": "stream",
     "text": [
      "C:\\Users\\user\\AppData\\Local\\Temp\\ipykernel_12064\\1344356376.py:1: FutureWarning: DataFrame.fillna with 'method' is deprecated and will raise in a future version. Use obj.ffill() or obj.bfill() instead.\n",
      "  df.fillna(method='ffill', inplace=True)  # 'ffill' (forward fill) - заполняет предыдущим значением\n"
     ]
    }
   ],
   "source": [
    "df.fillna(method='ffill', inplace=True)  # 'ffill' (forward fill) - заполняет предыдущим значением"
   ]
  },
  {
   "cell_type": "code",
   "execution_count": 10,
   "id": "1082798b-e21d-4764-90b6-c62ea2a42c20",
   "metadata": {},
   "outputs": [
    {
     "name": "stderr",
     "output_type": "stream",
     "text": [
      "C:\\Users\\user\\AppData\\Local\\Temp\\ipykernel_12064\\2694381286.py:2: FutureWarning: DataFrame.fillna with 'method' is deprecated and will raise in a future version. Use obj.ffill() or obj.bfill() instead.\n",
      "  df.fillna(method='bfill', inplace=True)  # 'bfill' (backward fill) - заполняет следующим значением\n"
     ]
    }
   ],
   "source": [
    "# Или следующим значением:\n",
    "df.fillna(method='bfill', inplace=True)  # 'bfill' (backward fill) - заполняет следующим значением"
   ]
  },
  {
   "cell_type": "markdown",
   "id": "5cf205d0-2480-47e5-a97e-8279da24e5b8",
   "metadata": {},
   "source": [
    "Заполнение только числовых или только строковых значений:\n",
    "\n",
    "Вы можете выбрать только числовые столбцы для заполнения:\n"
   ]
  },
  {
   "cell_type": "code",
   "execution_count": 11,
   "id": "7c915901-f550-4c36-9014-c3ca65d36dab",
   "metadata": {},
   "outputs": [
    {
     "name": "stdout",
     "output_type": "stream",
     "text": [
      "      Name   Age      City\n",
      "0    Alice  25.0  New York\n",
      "1      Bob   0.0         0\n",
      "2  Charlie  35.0   Chicago\n",
      "3    David  40.0   Houston\n"
     ]
    },
    {
     "name": "stderr",
     "output_type": "stream",
     "text": [
      "C:\\Users\\user\\AppData\\Local\\Temp\\ipykernel_12064\\1644099911.py:1: FutureWarning: A value is trying to be set on a copy of a DataFrame or Series through chained assignment using an inplace method.\n",
      "The behavior will change in pandas 3.0. This inplace method will never work because the intermediate object on which we are setting values always behaves as a copy.\n",
      "\n",
      "For example, when doing 'df[col].method(value, inplace=True)', try using 'df.method({col: value}, inplace=True)' or df[col] = df[col].method(value) instead, to perform the operation inplace on the original object.\n",
      "\n",
      "\n",
      "  df['Age'].fillna(df['Age'].mean(), inplace=True)\n"
     ]
    }
   ],
   "source": [
    "df['Age'].fillna(df['Age'].mean(), inplace=True)\n",
    "print(df)\n"
   ]
  },
  {
   "cell_type": "markdown",
   "id": "80f75a57-0d78-43d8-a6ff-465f6b052aac",
   "metadata": {},
   "source": [
    "Основные параметры метода fillna():\n",
    "\n",
    "\t•\tvalue: значение, которым нужно заменить пропущенные данные.\n",
    "\t•\tmethod: способ заполнения (ffill, bfill).\n",
    "\t•\tinplace: если True, изменения применяются к оригинальному DataFrame.\n",
    "\t•\tlimit: максимальное количество замен на одно заполнение.\n",
    "\n",
    "Использование fillna() помогает подготовить данные к дальнейшему анализу или построению моделей, избегая проблем, связанных с отсутствующими значениями."
   ]
  },
  {
   "cell_type": "code",
   "execution_count": null,
   "id": "5583bb69-1ee4-49f7-ba82-256b36d084af",
   "metadata": {},
   "outputs": [],
   "source": []
  }
 ],
 "metadata": {
  "kernelspec": {
   "display_name": "Python 3 (ipykernel)",
   "language": "python",
   "name": "python3"
  },
  "language_info": {
   "codemirror_mode": {
    "name": "ipython",
    "version": 3
   },
   "file_extension": ".py",
   "mimetype": "text/x-python",
   "name": "python",
   "nbconvert_exporter": "python",
   "pygments_lexer": "ipython3",
   "version": "3.7.0"
  }
 },
 "nbformat": 4,
 "nbformat_minor": 5
}
