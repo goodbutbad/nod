{
 "cells": [
  {
   "cell_type": "markdown",
   "id": "a53596ca",
   "metadata": {},
   "source": [
    "\n",
    "### 1. Классификация текста - Анализ эмоциональной окраски\n",
    "\n",
    "Для анализа эмоциональной окраски текста мы можем использовать библиотеку, например, `TextBlob`, которая уже встроена в наше приложение, или использовать более сложные модели на основе нейросетей, такие как BERT. Давайте попробуем классифицировать ваши предложения и проверить, согласны ли вы с прогнозом модели:\n"
   ]
  },
  {
   "cell_type": "code",
   "execution_count": 21,
   "id": "3f5b25d3",
   "metadata": {},
   "outputs": [
    {
     "name": "stdout",
     "output_type": "stream",
     "text": [
      "Точность модели: 0.50\n",
      "Отчет по классификации:\n",
      "               precision    recall  f1-score   support\n",
      "\n",
      "           0       0.50      1.00      0.67         1\n",
      "           1       0.00      0.00      0.00         1\n",
      "\n",
      "    accuracy                           0.50         2\n",
      "   macro avg       0.25      0.50      0.33         2\n",
      "weighted avg       0.25      0.50      0.33         2\n",
      "\n",
      "Предсказания для новых предложений: [1 0 1]\n"
     ]
    },
    {
     "name": "stderr",
     "output_type": "stream",
     "text": [
      "c:\\python37\\lib\\site-packages\\sklearn\\metrics\\_classification.py:1318: UndefinedMetricWarning: Precision and F-score are ill-defined and being set to 0.0 in labels with no predicted samples. Use `zero_division` parameter to control this behavior.\n",
      "  _warn_prf(average, modifier, msg_start, len(result))\n",
      "c:\\python37\\lib\\site-packages\\sklearn\\metrics\\_classification.py:1318: UndefinedMetricWarning: Precision and F-score are ill-defined and being set to 0.0 in labels with no predicted samples. Use `zero_division` parameter to control this behavior.\n",
      "  _warn_prf(average, modifier, msg_start, len(result))\n",
      "c:\\python37\\lib\\site-packages\\sklearn\\metrics\\_classification.py:1318: UndefinedMetricWarning: Precision and F-score are ill-defined and being set to 0.0 in labels with no predicted samples. Use `zero_division` parameter to control this behavior.\n",
      "  _warn_prf(average, modifier, msg_start, len(result))\n"
     ]
    }
   ],
   "source": [
    "# Импорт необходимых библиотек\n",
    "import pandas as pd\n",
    "from sklearn.feature_extraction.text import CountVectorizer\n",
    "from sklearn.model_selection import train_test_split\n",
    "from sklearn.linear_model import LogisticRegression\n",
    "from sklearn.metrics import accuracy_score, classification_report\n",
    "\n",
    "# Шаг 1: Собираем данные\n",
    "# Создадим простой набор данных для примера\n",
    "data = {\n",
    "    'text': [\n",
    "        \"I'm happy\", \n",
    "        \"It's horrible and sad\", \n",
    "        \"I like this movie\", \n",
    "        \"Today was a bad day\", \n",
    "        \"I'm so excited to hear this news\", \n",
    "        \"I don't like this book\"\n",
    "    ],\n",
    "    'label': [1, 0, 1, 0, 1, 0]  # 1 - позитивные, 0 - негативные\n",
    "}\n",
    "\n",
    "# Создаем DataFrame\n",
    "df = pd.DataFrame(data)\n",
    "\n",
    "# Шаг 2: Векторизуем текст\n",
    "X = df['text']  # Признаки\n",
    "y = df['label']  # Целевая переменная\n",
    "\n",
    "# Используем CountVectorizer для векторизации текста\n",
    "vectorizer = CountVectorizer()\n",
    "X_vectorized = vectorizer.fit_transform(X)\n",
    "\n",
    "# Шаг 3: Обучаем модель\n",
    "X_train, X_test, y_train, y_test = train_test_split(X_vectorized, y, test_size=0.2, random_state=42)\n",
    "model = LogisticRegression()\n",
    "model.fit(X_train, y_train)\n",
    "\n",
    "# Шаг 4: Проверяем прогнозы модели\n",
    "y_pred = model.predict(X_test)\n",
    "\n",
    "# Оценка модели\n",
    "accuracy = accuracy_score(y_test, y_pred)\n",
    "report = classification_report(y_test, y_pred)\n",
    "\n",
    "print(f\"Точность модели: {accuracy:.2f}\")\n",
    "print(\"Отчет по классификации:\\n\", report)\n",
    "\n",
    "# Пример предсказаний для новых предложений\n",
    "new_sentences = [\n",
    "    \"I'm so happy\",\n",
    "    \"It's just horrible\",\n",
    "    \"I don't like this movie\"\n",
    "]\n",
    "\n",
    "new_vectors = vectorizer.transform(new_sentences)\n",
    "predictions = model.predict(new_vectors)\n",
    "\n",
    "print(\"Предсказания для новых предложений:\", predictions)  # 1 - позитивные, 0 - негативные\n"
   ]
  },
  {
   "cell_type": "markdown",
   "id": "29be5b5b",
   "metadata": {},
   "source": []
  },
  {
   "cell_type": "markdown",
   "id": "b9cd963c",
   "metadata": {},
   "source": [
    "### 2. Конспект\n",
    "\n",
    "**Конспект:**\n",
    "\n",
    "Нейросети — это модели машинного обучения, которые имитируют работу человеческого мозга. Они состоят из множества связанных между собой \"нейронов\", которые обрабатывают информацию и передают её дальше по сети. Каждый нейрон отвечает за вычисление определённой функции. Основные типы нейросетей включают:\n",
    "- **Полносвязные нейросети**: Все нейроны соединены друг с другом.\n",
    "- **Свёрточные нейросети (CNN)**: Применяются в основном для анализа изображений.\n",
    "- **Рекуррентные нейросети (RNN)**: Используются для обработки последовательных данных, таких как текст.\n",
    "\n",
    "Пример простой нейросети на основе библиотеки Keras:\n",
    "\n"
   ]
  },
  {
   "cell_type": "code",
   "execution_count": 14,
   "id": "664ac7f6",
   "metadata": {},
   "outputs": [],
   "source": [
    "from keras.models import Sequential\n",
    "from keras.layers import Dense\n",
    "\n",
    "# Создаем модель\n",
    "model = Sequential()\n",
    "\n",
    "# Добавляем слои нейронов\n",
    "model.add(Dense(12, input_dim=8, activation='relu'))\n",
    "model.add(Dense(8, activation='relu'))\n",
    "model.add(Dense(1, activation='sigmoid'))\n",
    "\n",
    "# Компилируем модель\n",
    "model.compile(loss='binary_crossentropy', optimizer='adam', metrics=['accuracy'])"
   ]
  },
  {
   "cell_type": "markdown",
   "id": "90580f14",
   "metadata": {},
   "source": [
    "### 3. Конспект логистической регрессии\n",
    "\n",
    "**Конспект:**\n",
    "\n",
    "Логистическая регрессия — это метод, который используется для бинарной классификации. В отличие от линейной регрессии, она предсказывает вероятность принадлежности объекта к одному из двух классов. Функция активации — это сигмоида, которая преобразует выход модели в значение от 0 до 1, что интерпретируется как вероятность.\n",
    "\n",
    "Основная формула логистической регрессии:\n",
    "\n",
    "\\[\n",
    "P(Y=1|X) = \\frac{1}{1 + e^{-(\\beta_0 + \\beta_1X_1 + \\dots + \\beta_nX_n)}}\n",
    "\\]\n",
    "\n",
    "Пример использования логистической регрессии:\n",
    "\n",
    "```python\n",
    "from sklearn.linear_model import LogisticRegression\n",
    "from sklearn.model_selection import train_test_split\n",
    "from sklearn.datasets import load_iris\n",
    "\n",
    "# Загружаем данные\n",
    "iris = load_iris()\n",
    "X, y = iris.data, iris.target\n",
    "\n",
    "# Делим данные на тренировочные и тестовые\n",
    "X_train, X_test, y_train, y_test = train_test_split(X, y, test_size=0.3, random_state=42)\n",
    "\n",
    "# Обучаем модель\n",
    "model = LogisticRegression()\n",
    "model.fit(X_train, y_train)\n",
    "\n",
    "# Оцениваем точность \n",
    "accuracy = model.score(X_test, y_test)\n",
    "print(f\"Точность модели: {accuracy:.2f}\")\n",
    "```\n",
    "\n",
    "### 4. Классификация писем - Spam Detection\n",
    "\n",
    "В задаче классификации писем мы можем использовать методы `predict` и `predict_proba`, чтобы предсказать, является ли письмо спамом или нет. Оба метода принимают массив входных данных, так что можно классифицировать сразу несколько писем одним вызовом.\n",
    "Пример использования:\n"
   ]
  },
  {
   "cell_type": "code",
   "execution_count": 15,
   "id": "2aabc428",
   "metadata": {},
   "outputs": [
    {
     "name": "stdout",
     "output_type": "stream",
     "text": [
      "Предсказания для писем: [1 0 1]\n",
      "Вероятности спама: [[0.08058542 0.91941458]\n",
      " [0.95733433 0.04266567]\n",
      " [0.05366998 0.94633002]]\n"
     ]
    }
   ],
   "source": [
    "\n",
    "from sklearn.feature_extraction.text import CountVectorizer\n",
    "from sklearn.naive_bayes import MultinomialNB\n",
    "\n",
    "# Пример данных\n",
    "emails = [\n",
    "    \"Win a million dollars now!\", \n",
    "    \"Meeting at 3 PM today\", \n",
    "    \"Discount on your favorite items!\"\n",
    "]\n",
    "\n",
    "# Преобразуем текст в векторы\n",
    "vectorizer = CountVectorizer()\n",
    "X = vectorizer.fit_transform(emails)\n",
    "\n",
    "# Обучаем модель\n",
    "model = MultinomialNB()\n",
    "model.fit(X, [1, 0, 1])  # 1 - спам, 0 - не спам\n",
    "\n",
    "# Классифицируем письма\n",
    "predictions = model.predict(X)\n",
    "print(f\"Предсказания для писем: {predictions}\")\n",
    "\n",
    "# Вероятности спама\n",
    "probabilities = model.predict_proba(X)\n",
    "print(f\"Вероятности спама: {probabilities}\")"
   ]
  },
  {
   "cell_type": "markdown",
   "id": "4c2341da",
   "metadata": {},
   "source": [
    "Таким образом, можно классифицировать целую партию писем за один вызов метода. Чтобы получить результаты для каждого письма, просто вызываем метод `predict` для всех писем и выводим их предсказания!"
   ]
  },
  {
   "cell_type": "code",
   "execution_count": null,
   "id": "0c176465",
   "metadata": {},
   "outputs": [],
   "source": []
  },
  {
   "cell_type": "code",
   "execution_count": null,
   "id": "a7a0cf6a",
   "metadata": {},
   "outputs": [],
   "source": []
  }
 ],
 "metadata": {
  "kernelspec": {
   "display_name": "Python 3 (ipykernel)",
   "language": "python",
   "name": "python3"
  },
  "language_info": {
   "codemirror_mode": {
    "name": "ipython",
    "version": 3
   },
   "file_extension": ".py",
   "mimetype": "text/x-python",
   "name": "python",
   "nbconvert_exporter": "python",
   "pygments_lexer": "ipython3",
   "version": "3.7.0"
  }
 },
 "nbformat": 4,
 "nbformat_minor": 5
}
