{
 "cells": [
  {
   "cell_type": "markdown",
   "metadata": {},
   "source": [
    "## Наука о данных  \n",
    "\n",
    "## First Module assignment\n",
    "\n",
    "### Общая информация\n",
    "\n",
    "Общее время на выполнение:  60 мин\n",
    "\n",
    "Максимальная оценка за работу — 20 баллов.\n",
    "\n",
    "Сдавать задание по истечении 60 минут нельзя. \n",
    "\n",
    "Задание выполняется самостоятельно. \n",
    "\n",
    "### Формат сдачи\n",
    "Задания сдаются в виде ноутбука с выполненными заданиями. \n",
    "\n",
    "Дайте имя ноутбуку: <span style=\"color: red;\">First_Module_assignment_Группа_Фамилия_Имя.ipynb</span>\n",
    "\n",
    "## <span style=\"color: red;\">Примечание:</span>\n",
    "<span style=\"color: red;\">заранее откройте доступ к Вашей работе.  Оценка «0» выставляется  автоматически, если нету доступа к отправленному ноутбуку!</span>"
   ]
  },
  {
   "cell_type": "markdown",
   "metadata": {},
   "source": [
    "**1. Имеются данные о четырех иностранных граждан: имя, страна откуда приехали, возраст. Создайте словарь и преобразуйте в набор данных под названием foreigners_df. Покажите последние 3 записи**"
   ]
  },
  {
   "cell_type": "code",
   "execution_count": 1,
   "metadata": {
    "uuid": "ad1b06f7-e03a-4938-9d59-5bb40e848553"
   },
   "outputs": [
    {
     "data": {
      "text/html": [
       "<div>\n",
       "<style scoped>\n",
       "    .dataframe tbody tr th:only-of-type {\n",
       "        vertical-align: middle;\n",
       "    }\n",
       "\n",
       "    .dataframe tbody tr th {\n",
       "        vertical-align: top;\n",
       "    }\n",
       "\n",
       "    .dataframe thead th {\n",
       "        text-align: right;\n",
       "    }\n",
       "</style>\n",
       "<table border=\"1\" class=\"dataframe\">\n",
       "  <thead>\n",
       "    <tr style=\"text-align: right;\">\n",
       "      <th></th>\n",
       "      <th>Имя</th>\n",
       "      <th>Страна</th>\n",
       "      <th>Возраст</th>\n",
       "    </tr>\n",
       "  </thead>\n",
       "  <tbody>\n",
       "    <tr>\n",
       "      <th>1</th>\n",
       "      <td>Sophia</td>\n",
       "      <td>Франция</td>\n",
       "      <td>34</td>\n",
       "    </tr>\n",
       "    <tr>\n",
       "      <th>2</th>\n",
       "      <td>Hans</td>\n",
       "      <td>Германия</td>\n",
       "      <td>42</td>\n",
       "    </tr>\n",
       "    <tr>\n",
       "      <th>3</th>\n",
       "      <td>Yuki</td>\n",
       "      <td>Япония</td>\n",
       "      <td>30</td>\n",
       "    </tr>\n",
       "  </tbody>\n",
       "</table>\n",
       "</div>"
      ],
      "text/plain": [
       "      Имя    Страна  Возраст\n",
       "1  Sophia   Франция       34\n",
       "2    Hans  Германия       42\n",
       "3    Yuki    Япония       30"
      ]
     },
     "execution_count": 1,
     "metadata": {},
     "output_type": "execute_result"
    }
   ],
   "source": [
    "import pandas as pd\n",
    "\n",
    "foreigners_data = {\n",
    "    'Имя': ['John', 'Sophia', 'Hans', 'Yuki'],\n",
    "    'Страна': ['США', 'Франция', 'Германия', 'Япония'],\n",
    "    'Возраст': [28, 34, 42, 30]\n",
    "}\n",
    "\n",
    "foreigners_df = pd.DataFrame(foreigners_data)\n",
    "\n",
    "foreigners_df.tail(3)\n"
   ]
  },
  {
   "cell_type": "markdown",
   "metadata": {},
   "source": [
    "**2. Узнайте, сколько граждан Германии в возрасте от 30 до 45 в foreigners_df**"
   ]
  },
  {
   "cell_type": "code",
   "execution_count": 2,
   "metadata": {
    "scrolled": true
   },
   "outputs": [
    {
     "data": {
      "text/html": [
       "<div>\n",
       "<style scoped>\n",
       "    .dataframe tbody tr th:only-of-type {\n",
       "        vertical-align: middle;\n",
       "    }\n",
       "\n",
       "    .dataframe tbody tr th {\n",
       "        vertical-align: top;\n",
       "    }\n",
       "\n",
       "    .dataframe thead th {\n",
       "        text-align: right;\n",
       "    }\n",
       "</style>\n",
       "<table border=\"1\" class=\"dataframe\">\n",
       "  <thead>\n",
       "    <tr style=\"text-align: right;\">\n",
       "      <th></th>\n",
       "      <th>Имя</th>\n",
       "      <th>Страна</th>\n",
       "      <th>Возраст</th>\n",
       "    </tr>\n",
       "  </thead>\n",
       "  <tbody>\n",
       "    <tr>\n",
       "      <th>2</th>\n",
       "      <td>Hans</td>\n",
       "      <td>Германия</td>\n",
       "      <td>42</td>\n",
       "    </tr>\n",
       "  </tbody>\n",
       "</table>\n",
       "</div>"
      ],
      "text/plain": [
       "    Имя    Страна  Возраст\n",
       "2  Hans  Германия       42"
      ]
     },
     "execution_count": 2,
     "metadata": {},
     "output_type": "execute_result"
    }
   ],
   "source": [
    "germans_in_range = foreigners_df[(foreigners_df['Страна'] == 'Германия') & (foreigners_df['Возраст'] >= 30) & (foreigners_df['Возраст'] <= 45)]\n",
    "germans_in_range\n"
   ]
  },
  {
   "cell_type": "markdown",
   "metadata": {},
   "source": [
    "# Классификация сортов ириса\n",
    "Набор данных *Iris* включен в модуль *datasets* библиотеки *scikit-learn*. \n",
    "\n",
    "**3. Загрузите его, вызвав функцию *load_iris()***"
   ]
  },
  {
   "cell_type": "code",
   "execution_count": 3,
   "metadata": {
    "scrolled": true
   },
   "outputs": [],
   "source": [
    "from sklearn.datasets import load_iris\n",
    "\n",
    "iris = load_iris()\n"
   ]
  },
  {
   "cell_type": "markdown",
   "metadata": {},
   "source": [
    "**4. Значение ключа target_names – это массив строк, содержащий сорта цветов. Вывести все сорта Iris**"
   ]
  },
  {
   "cell_type": "code",
   "execution_count": 3,
   "metadata": {},
   "outputs": [],
   "source": [
    "iris['target_names']\n"
   ]
  },
  {
   "cell_type": "markdown",
   "metadata": {},
   "source": [
    "**5. Значение feature_names – это список строк с описанием каждого признака. Вывести названия характеристик (признаков)** "
   ]
  },
  {
   "cell_type": "code",
   "execution_count": 4,
   "metadata": {},
   "outputs": [],
   "source": [
    "iris['feature_names']\n"
   ]
  },
  {
   "cell_type": "markdown",
   "metadata": {},
   "source": [
    "**6. Проверьте, есть ли в данных пропуски**"
   ]
  },
  {
   "cell_type": "code",
   "execution_count": 5,
   "metadata": {},
   "outputs": [],
   "source": [
    "import numpy as np\n",
    "\n",
    "np.isnan(iris['data']).sum()  # Количество пропусков\n"
   ]
  },
  {
   "cell_type": "markdown",
   "metadata": {},
   "source": [
    "Массив содержит измерения для 150 различных цветов по 4 признакам. Вспомним, что в машинном обучении отдельные элементы называются примерами (samples), а их свойства –характеристиками или признаками (feature).\n",
    "\n",
    "**7. Вывести первые пять строк. Согласны ли Вы с утверждением, что все пять цветов имеют ширину лепестка 0.2 см и первый цветок имеет самую большую длину чашелистика, 5.1 см.**"
   ]
  },
  {
   "cell_type": "code",
   "execution_count": 6,
   "metadata": {},
   "outputs": [],
   "source": [
    "iris['data'][:5]\n",
    "\n",
    "all_width_0_2 = all(iris['data'][:5, 3] == 0.2)\n",
    "max_sepal_length_first = iris['data'][0, 0] == max(iris['data'][:5, 0])\n",
    "all_width_0_2, max_sepal_length_first\n"
   ]
  },
  {
   "cell_type": "markdown",
   "metadata": {},
   "source": [
    "В библиотеке *scikit-learn* есть функция *train_test_split*, которая перемешивает набор данных и разбивает его на обучающий набор и тестовый набор. \n",
    "\n",
    "Перед разбиением функция train_test_split перемешивает набор данных с помощью генератора псевдослучайных чисел. Если просто брать последние 25% наблюдений в качестве тестового набора, все точки данных будет иметь метку 2, поскольку все точки данных\n",
    "отсортированы по меткам. Поэтому данные перемешиваются. Чтобы в точности повторно воспроизвести полученный результат испольлзуется генератор псевдослучайных чисел с фиксированным стартовым значением, которое задается с помощью параметра\n",
    "random_state. random_state=0 будет генерировать один и тот же результат. \n",
    "\n",
    "**8. Разделите данные на обучающий и тестовый наборы. И добавьте генератор псевдослучайных чисел с фиксированным стартовым значением, чтобы генерировать один и тот же результат**"
   ]
  },
  {
   "cell_type": "code",
   "execution_count": 6,
   "metadata": {},
   "outputs": [],
   "source": [
    "from sklearn.model_selection import train_test_split\n",
    "\n",
    "# Разделяем данные на обучающий и тестовый набор с использованием random_state для воспроизводимости\n",
    "X_train, X_test, y_train, y_test = train_test_split(iris['data'], iris['target'], test_size=0.25, random_state=0)\n"
   ]
  },
  {
   "cell_type": "markdown",
   "metadata": {},
   "source": [
    "В библиотеке *scikit-learn* имеется довольно много алгоритмов классификации, которые могли бы использоватся для построения модели. В нем все модели реализованы в собственных классах, называемых классами Estimator. Алгоритм классификации на основе метода k ближайших соседей реализован в классификаторе *KNeighborsClassifier* модуля *neighbors*. Прежде чем использовать эту модель, Вам нужно создать объект-экземпляр класса. Это создается, когда мы зададим параметры модели. Самым важным параметром KNeighborsClassifier является *количество соседей*.\n",
    "\n",
    "**9. Создайте объект с именем *model* и укажите *количество соседей* 1**  "
   ]
  },
  {
   "cell_type": "code",
   "execution_count": 5,
   "metadata": {},
   "outputs": [],
   "source": [
    "from sklearn.neighbors import KNeighborsClassifier\n",
    "\n",
    "model = KNeighborsClassifier(n_neighbors=1)\n"
   ]
  },
  {
   "cell_type": "markdown",
   "metadata": {},
   "source": [
    "Для построения модели на обучающем наборе, вызывается метод fit объекта model, который принимает в качестве аргументов массив\n",
    "NumPy **X_train**, содержащий обучающие данные, и массив NumPy **y_train**, соответствующий обучающим меткам.\n",
    "\n",
    "**10. Обучите модель**"
   ]
  },
  {
   "cell_type": "code",
   "execution_count": 60,
   "metadata": {},
   "outputs": [
    {
     "data": {
      "text/plain": [
       "LinearRegression()"
      ]
     },
     "execution_count": 60,
     "metadata": {},
     "output_type": "execute_result"
    }
   ],
   "source": [
    "from sklearn.linear_model import LinearRegression\n",
    "model = LinearRegression()\n",
    "\n",
    "\n",
    "model.fit(X_train, y_train)\n"
   ]
  },
  {
   "cell_type": "markdown",
   "metadata": {},
   "source": [
    "Представьте, что Вы нашли в дикой природе ирис с длиной чашелистика 5 см, шириной чашелистика 2.9 см, длиной лепестка 1 см и шириной лепестка 0.2 см.\n",
    "\n",
    "**11. Создайте объект с именем *X_new* и поместите эти данные с использование массива NumPy** "
   ]
  },
  {
   "cell_type": "code",
   "execution_count": 8,
   "metadata": {},
   "outputs": [],
   "source": [
    "import numpy as np\n",
    "\n",
    "X_new = np.array([[5.0, 2.9, 1.0, 0.2]])\n"
   ]
  },
  {
   "cell_type": "markdown",
   "metadata": {},
   "source": [
    "**12.  К какому сорту ириса нужно отнести этот цветок? Чтобы сделать прогноз, используйте метод predict объекта model**"
   ]
  },
  {
   "cell_type": "code",
   "execution_count": 7,
   "metadata": {},
   "outputs": [],
   "source": [
    "predicted_class = model.predict(X_new)\n",
    "iris['target_names'][predicted_class]\n"
   ]
  },
  {
   "cell_type": "markdown",
   "metadata": {},
   "source": [
    "Ваш модель предсказывает, что этот новый цветок ириса принадлежит к какому-то классу, с обозначением сорта. Но как узнать, можно\n",
    "ли  доверять этой модели? \n",
    "\n",
    "**13. Оцените качество модели, вычислив accuracy  и score**"
   ]
  },
  {
   "cell_type": "code",
   "execution_count": 61,
   "metadata": {},
   "outputs": [
    {
     "data": {
      "text/plain": [
       "0.888612359879597"
      ]
     },
     "execution_count": 61,
     "metadata": {},
     "output_type": "execute_result"
    }
   ],
   "source": [
    "accuracy = model.score(X_test, y_test)\n",
    "accuracy\n"
   ]
  },
  {
   "cell_type": "code",
   "execution_count": 11,
   "metadata": {},
   "outputs": [],
   "source": [
    "# Ваш код здесь"
   ]
  },
  {
   "cell_type": "markdown",
   "metadata": {},
   "source": [
    "### Синтетические наборы данных\n",
    "Синтетические наборы данных — это искусственно созданные наборы данных, которые используются для тестирования, разработки алгоритмов, обучения моделей и верификации методов анализа данных. Они могут быть полезны, когда реальные данные недоступны или когда нужно проверить алгоритмы на контролируемых условиях. \n",
    "### Классификационные данные\n",
    "Данные могут быть сгенерированы для задач классификации. Ниже указан один из способов создания набора данных для классификации\n",
    "\n",
    "**14. Напишите комментарий к каждой строке**"
   ]
  },
  {
   "cell_type": "code",
   "execution_count": 62,
   "metadata": {},
   "outputs": [],
   "source": [
    "import numpy as np\n",
    "\n",
    "# Устанавливаем seed для воспроизводимости\n",
    "np.random.seed(42)\n",
    "\n",
    "# Количество примеров на каждый класс\n",
    "n_samples_per_class = 13\n",
    "\n",
    "# Генерируем координаты для класса 0\n",
    "X_class_0 = np.random.uniform(8.0, 11.0, size=(n_samples_per_class, 1))\n",
    "Y_class_0 = np.random.uniform(0, 4, size=(n_samples_per_class, 1))\n",
    "\n",
    "# Генерируем координаты для класса 1\n",
    "X_class_1 = np.random.uniform(8.0, 11.0, size=(n_samples_per_class, 1))\n",
    "Y_class_1 = np.random.uniform(2, 6, size=(n_samples_per_class, 1))\n",
    "\n",
    "# Объединяем данные по осям X и Y для обоих классов\n",
    "X = np.vstack([np.hstack([X_class_0, Y_class_0]), np.hstack([X_class_1, Y_class_1])])\n",
    "y = np.array([0] * n_samples_per_class + [1] * n_samples_per_class)\n"
   ]
  },
  {
   "cell_type": "markdown",
   "metadata": {},
   "source": [
    "**15. На основе классификационных данных из предыдущего вопроса и с использованием Scatter plot постройте график как на рисунке ниже**"
   ]
  },
  {
   "cell_type": "markdown",
   "metadata": {},
   "source": [
    "<img src=\"chpoint1_6.jpg\" width=500 height=500 align=\"left\"/>\n"
   ]
  },
  {
   "cell_type": "code",
   "execution_count": null,
   "metadata": {},
   "outputs": [],
   "source": []
  },
  {
   "cell_type": "markdown",
   "metadata": {},
   "source": [
    "### Реальные наборы данных\n",
    "Набор данных по раку молочной железы Университета Висконсин имеет записи клинических измерений опухолей молочной железы. Каждая опухоль обозначается как «benign» («доброкачественная», для неагрессивных опухолей) или malignant («злокачественная», для раковых опухолей), и задача состоит в том, чтобы на основании измерений ткани дать прогноз, является ли опухоль злокачественной.\n",
    "\n",
    "Данные можно загрузить из **scikit-learn** с помощью функции **load_breast_cancer**.\n",
    "\n",
    "**16. Загрузите его, вызвав функцию load_breast_cancer() и сохраните в объекте cancer_df**"
   ]
  },
  {
   "cell_type": "code",
   "execution_count": 9,
   "metadata": {},
   "outputs": [],
   "source": [
    "from sklearn.datasets import load_breast_cancer\n",
    "\n",
    "cancer = load_breast_cancer()\n",
    "cancer_df = pd.DataFrame(cancer['data'], columns=cancer['feature_names'])\n"
   ]
  },
  {
   "cell_type": "markdown",
   "metadata": {},
   "source": [
    "**17. Узнайте, сколько точек данных и признаков включает этот набор данных**"
   ]
  },
  {
   "cell_type": "code",
   "execution_count": 10,
   "metadata": {},
   "outputs": [
    {
     "data": {
      "text/plain": [
       "(569, 30)"
      ]
     },
     "execution_count": 10,
     "metadata": {},
     "output_type": "execute_result"
    }
   ],
   "source": [
    "cancer_df.shape\n"
   ]
  },
  {
   "cell_type": "markdown",
   "metadata": {},
   "source": [
    "**18. Сколько опухолей помечены как злокачественные и доброкачественные?**"
   ]
  },
  {
   "cell_type": "code",
   "execution_count": 11,
   "metadata": {},
   "outputs": [
    {
     "data": {
      "text/plain": [
       "(212, 357)"
      ]
     },
     "execution_count": 11,
     "metadata": {},
     "output_type": "execute_result"
    }
   ],
   "source": [
    "# Количество доброкачественных и злокачественных опухолей\n",
    "malignant_count = sum(cancer['target'] == 0)\n",
    "benign_count = sum(cancer['target'] == 1)\n",
    "malignant_count, benign_count\n"
   ]
  },
  {
   "cell_type": "markdown",
   "metadata": {},
   "source": [
    "# Прогнозирование тарифов на такси\n",
    "Наборы данных из Kaggle **taxi-fares.csv**  сохраните в объекте taxi_df.\n",
    "\n",
    "**19. Переименуйте названия столбцов:**\n",
    "\n",
    "Названия столбцов:\n",
    "\n",
    "- key - ключ\n",
    "- fare_amount - стоимость_проезда\n",
    "- pickup_datetime - время_посадки\n",
    "- pickup_longitude - координаты_посадки_широта\n",
    "- pickup_latitude - координаты_посадки_долгота\n",
    "- dropoff_longitude - координаты_высадки_широта\n",
    "- dropoff_latitude - координаты высадки_долгота\n",
    "- passenger_count - количество_пассажиров"
   ]
  },
  {
   "cell_type": "code",
   "execution_count": 36,
   "metadata": {},
   "outputs": [],
   "source": [
    "taxi_df = pd.read_csv('taxi-fares.csv')\n",
    "\n",
    "taxi_df.rename(columns={\n",
    "    'key': 'ключ',\n",
    "    'fare_amount': 'стоимость_проезда',\n",
    "    'pickup_datetime': 'время_посадки',\n",
    "    'pickup_longitude': 'координаты_посадки_долгота',\n",
    "    'pickup_latitude': 'координаты_посадки_широта',\n",
    "    'dropoff_longitude': 'координаты_высадки_долгота',\n",
    "    'dropoff_latitude': 'координаты_высадки_широта',\n",
    "    'passenger_count': 'количество_пассажиров'\n",
    "}, inplace=True)\n"
   ]
  },
  {
   "cell_type": "markdown",
   "metadata": {},
   "source": [
    "**20. С использованием параметра parse_dates функции read_csv выполните разбор строк в столбце pickup_datetime.**"
   ]
  },
  {
   "cell_type": "code",
   "execution_count": 32,
   "metadata": {},
   "outputs": [],
   "source": [
    "taxi_df = pd.read_csv('taxi-fares.csv', parse_dates=['pickup_datetime'])\n"
   ]
  },
  {
   "cell_type": "markdown",
   "metadata": {},
   "source": [
    "**21. Узнайте количество записей и полей**"
   ]
  },
  {
   "cell_type": "code",
   "execution_count": 33,
   "metadata": {},
   "outputs": [
    {
     "data": {
      "text/plain": [
       "(55368, 8)"
      ]
     },
     "execution_count": 33,
     "metadata": {},
     "output_type": "execute_result"
    }
   ],
   "source": [
    "taxi_df.shape\n"
   ]
  },
  {
   "cell_type": "markdown",
   "metadata": {},
   "source": [
    "**22. Есть ли в столбцах отсутствующие значения?**"
   ]
  },
  {
   "cell_type": "code",
   "execution_count": 23,
   "metadata": {},
   "outputs": [
    {
     "data": {
      "text/plain": [
       "key                  0\n",
       "fare_amount          0\n",
       "pickup_datetime      0\n",
       "pickup_longitude     0\n",
       "pickup_latitude      0\n",
       "dropoff_longitude    0\n",
       "dropoff_latitude     0\n",
       "passenger_count      0\n",
       "dtype: int64"
      ]
     },
     "execution_count": 23,
     "metadata": {},
     "output_type": "execute_result"
    }
   ],
   "source": [
    "# Проверяем на пропуски\n",
    "taxi_df.isnull().sum()\n"
   ]
  },
  {
   "cell_type": "markdown",
   "metadata": {},
   "source": [
    "**23. С помощью метода countplot() постройте гистограмму, показывающую, сколько записей с количеством пассажиров = 1, сколько - 2 и т. д.**"
   ]
  },
  {
   "cell_type": "code",
   "execution_count": 30,
   "metadata": {},
   "outputs": [
    {
     "data": {
      "image/png": "[encoded data removed]",
      "text/plain": [
       "<Figure size 640x480 with 1 Axes>"
      ]
     },
     "metadata": {},
     "output_type": "display_data"
    }
   ],
   "source": [
    "import seaborn as sns\n",
    "import matplotlib.pyplot as plt\n",
    "\n",
    "# Построение гистограммы\n",
    "sns.countplot(x='passenger_count', data=taxi_df)\n",
    "plt.show()\n"
   ]
  },
  {
   "cell_type": "markdown",
   "metadata": {},
   "source": [
    "**24. Добавьте столбцы с указанием дня недели (0- понедельник (Monday), 1 - воскресенье (Sunday) и т. д.), часа дня, когда пассажира забрали (0-23)**"
   ]
  },
  {
   "cell_type": "code",
   "execution_count": null,
   "metadata": {},
   "outputs": [],
   "source": [
    "# Добавляем столбцы с днем недели и часом\n",
    "taxi_df['день_недели'] = taxi_df['время_посадки'].dt.weekday\n",
    "taxi_df['час'] = taxi_df['время_посадки'].dt.hour\n"
   ]
  },
  {
   "cell_type": "markdown",
   "metadata": {},
   "source": [
    "**25. Узнайте сколько пассажиров заказали такси в пятницу с 8:00 до 16:00**"
   ]
  },
  {
   "cell_type": "code",
   "execution_count": 37,
   "metadata": {},
   "outputs": [
    {
     "ename": "KeyError",
     "evalue": "'день_недели'",
     "output_type": "error",
     "traceback": [
      "\u001b[1;31m---------------------------------------------------------------------------\u001b[0m",
      "\u001b[1;31mKeyError\u001b[0m                                  Traceback (most recent call last)",
      "\u001b[1;32mc:\\python37\\lib\\site-packages\\pandas\\core\\indexes\\base.py\u001b[0m in \u001b[0;36mget_loc\u001b[1;34m(self, key, method, tolerance)\u001b[0m\n\u001b[0;32m   2897\u001b[0m             \u001b[1;32mtry\u001b[0m\u001b[1;33m:\u001b[0m\u001b[1;33m\u001b[0m\u001b[0m\n\u001b[1;32m-> 2898\u001b[1;33m                 \u001b[1;32mreturn\u001b[0m \u001b[0mself\u001b[0m\u001b[1;33m.\u001b[0m\u001b[0m_engine\u001b[0m\u001b[1;33m.\u001b[0m\u001b[0mget_loc\u001b[0m\u001b[1;33m(\u001b[0m\u001b[0mcasted_key\u001b[0m\u001b[1;33m)\u001b[0m\u001b[1;33m\u001b[0m\u001b[0m\n\u001b[0m\u001b[0;32m   2899\u001b[0m             \u001b[1;32mexcept\u001b[0m \u001b[0mKeyError\u001b[0m \u001b[1;32mas\u001b[0m \u001b[0merr\u001b[0m\u001b[1;33m:\u001b[0m\u001b[1;33m\u001b[0m\u001b[0m\n",
      "\u001b[1;32mpandas\\_libs\\index.pyx\u001b[0m in \u001b[0;36mpandas._libs.index.IndexEngine.get_loc\u001b[1;34m()\u001b[0m\n",
      "\u001b[1;32mpandas\\_libs\\index.pyx\u001b[0m in \u001b[0;36mpandas._libs.index.IndexEngine.get_loc\u001b[1;34m()\u001b[0m\n",
      "\u001b[1;32mpandas\\_libs\\hashtable_class_helper.pxi\u001b[0m in \u001b[0;36mpandas._libs.hashtable.PyObjectHashTable.get_item\u001b[1;34m()\u001b[0m\n",
      "\u001b[1;32mpandas\\_libs\\hashtable_class_helper.pxi\u001b[0m in \u001b[0;36mpandas._libs.hashtable.PyObjectHashTable.get_item\u001b[1;34m()\u001b[0m\n",
      "\u001b[1;31mKeyError\u001b[0m: 'день_недели'",
      "\nThe above exception was the direct cause of the following exception:\n",
      "\u001b[1;31mKeyError\u001b[0m                                  Traceback (most recent call last)",
      "\u001b[1;32m~\\AppData\\Local\\Temp\\ipykernel_8052\\2025691463.py\u001b[0m in \u001b[0;36m<module>\u001b[1;34m\u001b[0m\n\u001b[0;32m      1\u001b[0m \u001b[1;31m# Пятница = 4, проверяем записи с 8 до 16 часов\u001b[0m\u001b[1;33m\u001b[0m\u001b[1;33m\u001b[0m\u001b[0m\n\u001b[1;32m----> 2\u001b[1;33m \u001b[0mtaxi_friday\u001b[0m \u001b[1;33m=\u001b[0m \u001b[0mtaxi_df\u001b[0m\u001b[1;33m[\u001b[0m\u001b[1;33m(\u001b[0m\u001b[0mtaxi_df\u001b[0m\u001b[1;33m[\u001b[0m\u001b[1;34m'день_недели'\u001b[0m\u001b[1;33m]\u001b[0m \u001b[1;33m==\u001b[0m \u001b[1;36m4\u001b[0m\u001b[1;33m)\u001b[0m \u001b[1;33m&\u001b[0m \u001b[1;33m(\u001b[0m\u001b[0mtaxi_df\u001b[0m\u001b[1;33m[\u001b[0m\u001b[1;34m'час'\u001b[0m\u001b[1;33m]\u001b[0m \u001b[1;33m>=\u001b[0m \u001b[1;36m8\u001b[0m\u001b[1;33m)\u001b[0m \u001b[1;33m&\u001b[0m \u001b[1;33m(\u001b[0m\u001b[0mtaxi_df\u001b[0m\u001b[1;33m[\u001b[0m\u001b[1;34m'час'\u001b[0m\u001b[1;33m]\u001b[0m \u001b[1;33m<=\u001b[0m \u001b[1;36m16\u001b[0m\u001b[1;33m)\u001b[0m\u001b[1;33m]\u001b[0m\u001b[1;33m\u001b[0m\u001b[0m\n\u001b[0m\u001b[0;32m      3\u001b[0m \u001b[0mtaxi_friday\u001b[0m\u001b[1;33m[\u001b[0m\u001b[1;34m'количество_пассажиров'\u001b[0m\u001b[1;33m]\u001b[0m\u001b[1;33m.\u001b[0m\u001b[0msum\u001b[0m\u001b[1;33m(\u001b[0m\u001b[1;33m)\u001b[0m\u001b[1;33m\u001b[0m\u001b[0m\n",
      "\u001b[1;32mc:\\python37\\lib\\site-packages\\pandas\\core\\frame.py\u001b[0m in \u001b[0;36m__getitem__\u001b[1;34m(self, key)\u001b[0m\n\u001b[0;32m   2904\u001b[0m             \u001b[1;32mif\u001b[0m \u001b[0mself\u001b[0m\u001b[1;33m.\u001b[0m\u001b[0mcolumns\u001b[0m\u001b[1;33m.\u001b[0m\u001b[0mnlevels\u001b[0m \u001b[1;33m>\u001b[0m \u001b[1;36m1\u001b[0m\u001b[1;33m:\u001b[0m\u001b[1;33m\u001b[0m\u001b[0m\n\u001b[0;32m   2905\u001b[0m                 \u001b[1;32mreturn\u001b[0m \u001b[0mself\u001b[0m\u001b[1;33m.\u001b[0m\u001b[0m_getitem_multilevel\u001b[0m\u001b[1;33m(\u001b[0m\u001b[0mkey\u001b[0m\u001b[1;33m)\u001b[0m\u001b[1;33m\u001b[0m\u001b[0m\n\u001b[1;32m-> 2906\u001b[1;33m             \u001b[0mindexer\u001b[0m \u001b[1;33m=\u001b[0m \u001b[0mself\u001b[0m\u001b[1;33m.\u001b[0m\u001b[0mcolumns\u001b[0m\u001b[1;33m.\u001b[0m\u001b[0mget_loc\u001b[0m\u001b[1;33m(\u001b[0m\u001b[0mkey\u001b[0m\u001b[1;33m)\u001b[0m\u001b[1;33m\u001b[0m\u001b[0m\n\u001b[0m\u001b[0;32m   2907\u001b[0m             \u001b[1;32mif\u001b[0m \u001b[0mis_integer\u001b[0m\u001b[1;33m(\u001b[0m\u001b[0mindexer\u001b[0m\u001b[1;33m)\u001b[0m\u001b[1;33m:\u001b[0m\u001b[1;33m\u001b[0m\u001b[0m\n\u001b[0;32m   2908\u001b[0m                 \u001b[0mindexer\u001b[0m \u001b[1;33m=\u001b[0m \u001b[1;33m[\u001b[0m\u001b[0mindexer\u001b[0m\u001b[1;33m]\u001b[0m\u001b[1;33m\u001b[0m\u001b[0m\n",
      "\u001b[1;32mc:\\python37\\lib\\site-packages\\pandas\\core\\indexes\\base.py\u001b[0m in \u001b[0;36mget_loc\u001b[1;34m(self, key, method, tolerance)\u001b[0m\n\u001b[0;32m   2898\u001b[0m                 \u001b[1;32mreturn\u001b[0m \u001b[0mself\u001b[0m\u001b[1;33m.\u001b[0m\u001b[0m_engine\u001b[0m\u001b[1;33m.\u001b[0m\u001b[0mget_loc\u001b[0m\u001b[1;33m(\u001b[0m\u001b[0mcasted_key\u001b[0m\u001b[1;33m)\u001b[0m\u001b[1;33m\u001b[0m\u001b[0m\n\u001b[0;32m   2899\u001b[0m             \u001b[1;32mexcept\u001b[0m \u001b[0mKeyError\u001b[0m \u001b[1;32mas\u001b[0m \u001b[0merr\u001b[0m\u001b[1;33m:\u001b[0m\u001b[1;33m\u001b[0m\u001b[0m\n\u001b[1;32m-> 2900\u001b[1;33m                 \u001b[1;32mraise\u001b[0m \u001b[0mKeyError\u001b[0m\u001b[1;33m(\u001b[0m\u001b[0mkey\u001b[0m\u001b[1;33m)\u001b[0m \u001b[1;32mfrom\u001b[0m \u001b[0merr\u001b[0m\u001b[1;33m\u001b[0m\u001b[0m\n\u001b[0m\u001b[0;32m   2901\u001b[0m \u001b[1;33m\u001b[0m\u001b[0m\n\u001b[0;32m   2902\u001b[0m         \u001b[1;32mif\u001b[0m \u001b[0mtolerance\u001b[0m \u001b[1;32mis\u001b[0m \u001b[1;32mnot\u001b[0m \u001b[1;32mNone\u001b[0m\u001b[1;33m:\u001b[0m\u001b[1;33m\u001b[0m\u001b[0m\n",
      "\u001b[1;31mKeyError\u001b[0m: 'день_недели'"
     ]
    }
   ],
   "source": [
    "# Пятница = 4, проверяем записи с 8 до 16 часов\n",
    "taxi_friday = taxi_df[(taxi_df['день_недели'] == 4) & (taxi_df['час'] >= 8) & (taxi_df['час'] <= 16)]\n",
    "taxi_friday['количество_пассажиров'].sum()\n"
   ]
  },
  {
   "cell_type": "markdown",
   "metadata": {},
   "source": [
    "## Проект «Гутенберг»\n",
    "\n",
    "«Little Women» Louisa May Alcott можно загрузить по ссылке: https://www.gutenberg.org/ebooks/514\n",
    "\n",
    "Сохраните этот файл с именем Little_Women.txt. \n",
    "Для анализа удалите текст перед строкой: \\*\\*\\* START OF THE PROJECT GUTENBERG EBOOK LITTLE WOMEN \\*\\*\\*, а также текст в конце файла, начиная с текста: \\*\\*\\* END OF THE PROJECT GUTENBERG EBOOK LITTLE WOMEN \\*\\*\\*\n",
    "\n",
    "**26. Сохраните файл в объекте little_women_text, а названия глав сохраните в объекте little_women_chapters**"
   ]
  },
  {
   "cell_type": "code",
   "execution_count": 40,
   "metadata": {},
   "outputs": [],
   "source": [
    "url = 'https://www.gutenberg.org/ebooks/514.txt.utf-8'\n",
    "import requests\n",
    "\n",
    "response = requests.get(url)\n",
    "little_women_text = response.text\n",
    "\n",
    "start_idx = little_women_text.find(\"*** START OF THE PROJECT GUTENBERG EBOOK LITTLE WOMEN ***\")\n",
    "end_idx = little_women_text.find(\"*** END OF THE PROJECT GUTENBERG EBOOK LITTLE WOMEN ***\")\n",
    "cleaned_text = little_women_text[start_idx:end_idx]\n",
    "\n",
    "with open('Little_Women.txt', 'w', encoding='utf-8') as file:\n",
    "    file.write(cleaned_text)\n"
   ]
  },
  {
   "cell_type": "markdown",
   "metadata": {},
   "source": [
    "**27. Вывести главы «Little Women» в виде таблицы**"
   ]
  },
  {
   "cell_type": "code",
   "execution_count": 42,
   "metadata": {},
   "outputs": [
    {
     "data": {
      "text/html": [
       "<div>\n",
       "<style scoped>\n",
       "    .dataframe tbody tr th:only-of-type {\n",
       "        vertical-align: middle;\n",
       "    }\n",
       "\n",
       "    .dataframe tbody tr th {\n",
       "        vertical-align: top;\n",
       "    }\n",
       "\n",
       "    .dataframe thead th {\n",
       "        text-align: right;\n",
       "    }\n",
       "</style>\n",
       "<table border=\"1\" class=\"dataframe\">\n",
       "  <thead>\n",
       "    <tr style=\"text-align: right;\">\n",
       "      <th></th>\n",
       "      <th>Chapter Titles</th>\n",
       "    </tr>\n",
       "  </thead>\n",
       "  <tbody>\n",
       "  </tbody>\n",
       "</table>\n",
       "</div>"
      ],
      "text/plain": [
       "Empty DataFrame\n",
       "Columns: [Chapter Titles]\n",
       "Index: []"
      ]
     },
     "execution_count": 42,
     "metadata": {},
     "output_type": "execute_result"
    }
   ],
   "source": [
    "import re\n",
    "\n",
    "little_women_chapters = re.findall(r'Chapter \\w+', cleaned_text)\n",
    "\n",
    "import pandas as pd\n",
    "\n",
    "chapters_df = pd.DataFrame(little_women_chapters, columns=['Chapter Titles'])\n",
    "chapters_df\n"
   ]
  },
  {
   "cell_type": "markdown",
   "metadata": {},
   "source": [
    "**28. Посчитайте, сколько раз имена Amy, Meg и Jo встречаются в каждой главе**"
   ]
  },
  {
   "cell_type": "code",
   "execution_count": 44,
   "metadata": {},
   "outputs": [
    {
     "data": {
      "text/html": [
       "<div>\n",
       "<style scoped>\n",
       "    .dataframe tbody tr th:only-of-type {\n",
       "        vertical-align: middle;\n",
       "    }\n",
       "\n",
       "    .dataframe tbody tr th {\n",
       "        vertical-align: top;\n",
       "    }\n",
       "\n",
       "    .dataframe thead th {\n",
       "        text-align: right;\n",
       "    }\n",
       "</style>\n",
       "<table border=\"1\" class=\"dataframe\">\n",
       "  <thead>\n",
       "    <tr style=\"text-align: right;\">\n",
       "      <th></th>\n",
       "      <th>Chapter</th>\n",
       "      <th>Amy</th>\n",
       "      <th>Meg</th>\n",
       "      <th>Jo</th>\n",
       "    </tr>\n",
       "  </thead>\n",
       "  <tbody>\n",
       "  </tbody>\n",
       "</table>\n",
       "</div>"
      ],
      "text/plain": [
       "Empty DataFrame\n",
       "Columns: [Chapter, Amy, Meg, Jo]\n",
       "Index: []"
      ]
     },
     "execution_count": 44,
     "metadata": {},
     "output_type": "execute_result"
    }
   ],
   "source": [
    "# Подсчет вхождений имен в каждой главе\n",
    "chapter_counts = {'Chapter': [], 'Amy': [], 'Meg': [], 'Jo': []}\n",
    "\n",
    "for chapter in little_women_chapters:\n",
    "    start = cleaned_text.find(chapter)\n",
    "    end = cleaned_text.find('Chapter', start + len(chapter))\n",
    "    \n",
    "    if end == -1:  # If it's the last chapter\n",
    "        end = len(cleaned_text)\n",
    "    \n",
    "    chapter_text = cleaned_text[start:end]\n",
    "    chapter_counts['Chapter'].append(chapter)\n",
    "    chapter_counts['Amy'].append(chapter_text.count('Amy'))\n",
    "    chapter_counts['Meg'].append(chapter_text.count('Meg'))\n",
    "    chapter_counts['Jo'].append(chapter_text.count('Jo'))\n",
    "\n",
    "counts_df = pd.DataFrame(chapter_counts)\n",
    "counts_df\n"
   ]
  },
  {
   "cell_type": "markdown",
   "metadata": {},
   "source": [
    "**29. В каждой главе подсчитайте количество всех символов и сохраните в объекте 'Length'. Подсчитайте количество точек и сохраните в объекте 'Number of Periods'.**"
   ]
  },
  {
   "cell_type": "code",
   "execution_count": 45,
   "metadata": {},
   "outputs": [
    {
     "data": {
      "text/html": [
       "<div>\n",
       "<style scoped>\n",
       "    .dataframe tbody tr th:only-of-type {\n",
       "        vertical-align: middle;\n",
       "    }\n",
       "\n",
       "    .dataframe tbody tr th {\n",
       "        vertical-align: top;\n",
       "    }\n",
       "\n",
       "    .dataframe thead th {\n",
       "        text-align: right;\n",
       "    }\n",
       "</style>\n",
       "<table border=\"1\" class=\"dataframe\">\n",
       "  <thead>\n",
       "    <tr style=\"text-align: right;\">\n",
       "      <th></th>\n",
       "      <th>Chapter</th>\n",
       "      <th>Length</th>\n",
       "      <th>Number of Periods</th>\n",
       "    </tr>\n",
       "  </thead>\n",
       "  <tbody>\n",
       "  </tbody>\n",
       "</table>\n",
       "</div>"
      ],
      "text/plain": [
       "Empty DataFrame\n",
       "Columns: [Chapter, Length, Number of Periods]\n",
       "Index: []"
      ]
     },
     "execution_count": 45,
     "metadata": {},
     "output_type": "execute_result"
    }
   ],
   "source": [
    "# Подсчет символов и точек в каждой главе\n",
    "chapter_length_periods = {'Chapter': [], 'Length': [], 'Number of Periods': []}\n",
    "\n",
    "for chapter in little_women_chapters:\n",
    "    start = cleaned_text.find(chapter)\n",
    "    end = cleaned_text.find('Chapter', start + len(chapter))\n",
    "    \n",
    "    if end == -1:  # If it's the last chapter\n",
    "        end = len(cleaned_text)\n",
    "    \n",
    "    chapter_text = cleaned_text[start:end]\n",
    "    chapter_length_periods['Chapter'].append(chapter)\n",
    "    chapter_length_periods['Length'].append(len(chapter_text))\n",
    "    chapter_length_periods['Number of Periods'].append(chapter_text.count('.'))\n",
    "\n",
    "lengths_df = pd.DataFrame(chapter_length_periods)\n",
    "lengths_df\n"
   ]
  },
  {
   "cell_type": "markdown",
   "metadata": {},
   "source": [
    "**30. Какая глава длиннее? Есть ли в последней главе около 100 точек?**"
   ]
  },
  {
   "cell_type": "code",
   "execution_count": 47,
   "metadata": {},
   "outputs": [
    {
     "name": "stdout",
     "output_type": "stream",
     "text": [
      "Количество глав: 1\n",
      "Глава 1 - Длина: 1028035 символов, Количество точек: 8948\n",
      "Глава с наибольшей длиной: Глава 1 (1028035 символов)\n",
      "Количество точек в последней главе: 8948\n"
     ]
    }
   ],
   "source": [
    "chapters = cleaned_text.split('\\n\\n')  # Разделяем текст на главы по пустым строкам\n",
    "\n",
    "print(f'Количество глав: {len(chapters)}')\n",
    "\n",
    "chapter_lengths = []\n",
    "period_counts = []\n",
    "\n",
    "for i, chapter in enumerate(chapters):\n",
    "    chapter_length = len(chapter)  # Количество символов в главе\n",
    "    period_count = chapter.count('.')  # Количество точек в главе\n",
    "    chapter_lengths.append(chapter_length)\n",
    "    period_counts.append(period_count)\n",
    "    \n",
    "    try:\n",
    "        print(f'Глава {i+1} - Длина: {chapter_length} символов, Количество точек: {period_count}')\n",
    "    except IndexError:\n",
    "        print(f'Ошибка! Глава {i+1} выходит за пределы.')\n",
    "\n",
    "max_length_idx = chapter_lengths.index(max(chapter_lengths))\n",
    "print(f'Глава с наибольшей длиной: Глава {max_length_idx + 1} ({chapter_lengths[max_length_idx]} символов)')\n",
    "\n",
    "last_chapter_period_count = period_counts[-1]\n",
    "print(f'Количество точек в последней главе: {last_chapter_period_count}')\n"
   ]
  },
  {
   "cell_type": "markdown",
   "metadata": {},
   "source": [
    "## Работа с TextBlob\n",
    "В модуле textblob имеется класс **TextBlob** для NLP-операций. \n",
    "\n",
    "**31. С помощью данного класса создайте объект TextBlob с 10 предложениями из Little Women. Используя словарь word_counts подсчитайте частоты вхождения каждого слова.**"
   ]
  },
  {
   "cell_type": "code",
   "execution_count": 48,
   "metadata": {},
   "outputs": [
    {
     "data": {
      "text/plain": [
       "defaultdict(int,\n",
       "            {'start': 1,\n",
       "             'of': 5,\n",
       "             'the': 16,\n",
       "             'project': 1,\n",
       "             'gutenberg': 1,\n",
       "             'ebook': 1,\n",
       "             'little': 4,\n",
       "             'women': 2,\n",
       "             'by': 1,\n",
       "             'louisa': 1,\n",
       "             'may': 1,\n",
       "             'alcott': 1,\n",
       "             'contents': 1,\n",
       "             'part': 3,\n",
       "             '1': 2,\n",
       "             'chapter': 48,\n",
       "             'one': 2,\n",
       "             'playing': 2,\n",
       "             'pilgrims': 2,\n",
       "             'two': 1,\n",
       "             'a': 3,\n",
       "             'merry': 1,\n",
       "             'christmas': 3,\n",
       "             'three': 1,\n",
       "             'laurence': 3,\n",
       "             'boy': 1,\n",
       "             'four': 2,\n",
       "             'burdens': 1,\n",
       "             'five': 1,\n",
       "             'being': 1,\n",
       "             'neighborly': 1,\n",
       "             'six': 1,\n",
       "             'beth': 3,\n",
       "             'finds': 1,\n",
       "             'palace': 1,\n",
       "             'beautiful': 1,\n",
       "             'seven': 1,\n",
       "             'amy': 3,\n",
       "             '’': 11,\n",
       "             's': 6,\n",
       "             'valley': 2,\n",
       "             'humiliation': 1,\n",
       "             'eight': 1,\n",
       "             'jo': 5,\n",
       "             'meets': 1,\n",
       "             'apollyon': 1,\n",
       "             'nine': 1,\n",
       "             'meg': 2,\n",
       "             'goes': 1,\n",
       "             'to': 4,\n",
       "             'vanity': 1,\n",
       "             'fair': 2,\n",
       "             'ten': 1,\n",
       "             'p': 2,\n",
       "             'c': 1,\n",
       "             'and': 8,\n",
       "             'o': 1,\n",
       "             'eleven': 1,\n",
       "             'experiments': 1,\n",
       "             'twelve': 1,\n",
       "             'camp': 1,\n",
       "             'thirteen': 1,\n",
       "             'castles': 1,\n",
       "             'in': 1,\n",
       "             'air': 1,\n",
       "             'fourteen': 1,\n",
       "             'secrets': 1,\n",
       "             'fifteen': 1,\n",
       "             'telegram': 1,\n",
       "             'sixteen': 1,\n",
       "             'letters': 1,\n",
       "             'seventeen': 1,\n",
       "             'faithful': 1,\n",
       "             'eighteen': 1,\n",
       "             'dark': 1,\n",
       "             'days': 1,\n",
       "             'nineteen': 1,\n",
       "             'will': 1,\n",
       "             'twenty': 1,\n",
       "             'confidential': 1,\n",
       "             'twenty-one': 1,\n",
       "             'laurie': 1,\n",
       "             'makes': 2,\n",
       "             'mischief': 1,\n",
       "             'peace': 1,\n",
       "             'twenty-two': 1,\n",
       "             'pleasant': 1,\n",
       "             'meadows': 1,\n",
       "             'twenty-three': 1,\n",
       "             'aunt': 1,\n",
       "             'march': 1,\n",
       "             'settles': 1,\n",
       "             'question': 1,\n",
       "             '2': 1,\n",
       "             'twenty-four': 1,\n",
       "             'gossip': 1,\n",
       "             'twenty-five': 1,\n",
       "             'first': 1,\n",
       "             'wedding': 1,\n",
       "             'twenty-six': 1,\n",
       "             'artistic': 1,\n",
       "             'attempts': 1,\n",
       "             'twenty-seven': 1,\n",
       "             'literary': 1,\n",
       "             'lessons': 1,\n",
       "             'twenty-eight': 1,\n",
       "             'domestic': 1,\n",
       "             'experiences': 1,\n",
       "             'twenty-nine': 1,\n",
       "             'calls': 1,\n",
       "             'thirty': 1,\n",
       "             'consequences': 1,\n",
       "             'thirty-one': 1,\n",
       "             'our': 1,\n",
       "             'foreign': 1,\n",
       "             'correspondent': 1,\n",
       "             'thirty-two': 1,\n",
       "             'tender': 1,\n",
       "             'troubles': 1,\n",
       "             'thirty-three': 1,\n",
       "             'journal': 1,\n",
       "             'thirty-four': 1,\n",
       "             'friend': 1,\n",
       "             'thirty-five': 1,\n",
       "             'heartache': 1,\n",
       "             'thirty-six': 1,\n",
       "             'secret': 1,\n",
       "             'thirty-seven': 1,\n",
       "             'new': 1,\n",
       "             'impressions': 1,\n",
       "             'thirty-eight': 1,\n",
       "             'on': 3,\n",
       "             'shelf': 1,\n",
       "             'thirty-nine': 1,\n",
       "             'lazy': 1,\n",
       "             'forty': 1,\n",
       "             'shadow': 1,\n",
       "             'forty-one': 1,\n",
       "             'learning': 1,\n",
       "             'forget': 1,\n",
       "             'forty-two': 1,\n",
       "             'all': 2,\n",
       "             'alone': 1,\n",
       "             'forty-three': 1,\n",
       "             'surprises': 1,\n",
       "             'forty-four': 1,\n",
       "             'my': 1,\n",
       "             'lord': 1,\n",
       "             'lady': 1,\n",
       "             'forty-five': 1,\n",
       "             'daisy': 1,\n",
       "             'demi': 1,\n",
       "             'forty-six': 1,\n",
       "             'under': 1,\n",
       "             'umbrella': 1,\n",
       "             'forty-seven': 1,\n",
       "             'harvest': 1,\n",
       "             'time': 2,\n",
       "             '“': 6,\n",
       "             'won': 1,\n",
       "             't': 4,\n",
       "             'be': 2,\n",
       "             'without': 1,\n",
       "             'any': 1,\n",
       "             'presents': 1,\n",
       "             '”': 6,\n",
       "             'grumbled': 1,\n",
       "             'lying': 1,\n",
       "             'rug': 1,\n",
       "             'it': 3,\n",
       "             'so': 1,\n",
       "             'dreadful': 1,\n",
       "             'poor': 1,\n",
       "             'sighed': 1,\n",
       "             'looking': 1,\n",
       "             'down': 1,\n",
       "             'at': 3,\n",
       "             'her': 2,\n",
       "             'old': 1,\n",
       "             'dress': 1,\n",
       "             'i': 1,\n",
       "             'don': 1,\n",
       "             'think': 1,\n",
       "             'for': 2,\n",
       "             'some': 1,\n",
       "             'girls': 2,\n",
       "             'have': 2,\n",
       "             'plenty': 1,\n",
       "             'pretty': 1,\n",
       "             'things': 1,\n",
       "             'other': 2,\n",
       "             'nothing': 1,\n",
       "             'added': 2,\n",
       "             'with': 1,\n",
       "             'an': 1,\n",
       "             'injured': 1,\n",
       "             'sniff': 1,\n",
       "             'we': 2,\n",
       "             've': 1,\n",
       "             'got': 2,\n",
       "             'father': 3,\n",
       "             'mother': 1,\n",
       "             'each': 2,\n",
       "             'said': 2,\n",
       "             'contentedly': 1,\n",
       "             'from': 1,\n",
       "             'corner': 1,\n",
       "             'young': 1,\n",
       "             'faces': 1,\n",
       "             'which': 1,\n",
       "             'firelight': 1,\n",
       "             'shone': 1,\n",
       "             'brightened': 1,\n",
       "             'cheerful': 1,\n",
       "             'words': 1,\n",
       "             'but': 2,\n",
       "             'darkened': 1,\n",
       "             'again': 1,\n",
       "             'as': 1,\n",
       "             'sadly': 1,\n",
       "             'haven': 1,\n",
       "             'shall': 1,\n",
       "             'not': 1,\n",
       "             'him': 1,\n",
       "             'long': 1,\n",
       "             'she': 1,\n",
       "             'didn': 1,\n",
       "             'say': 1,\n",
       "             'perhaps': 1,\n",
       "             'never': 1,\n",
       "             'silently': 1,\n",
       "             'thinking': 1,\n",
       "             'far': 1,\n",
       "             'away': 1,\n",
       "             'where': 1,\n",
       "             'fighting': 1,\n",
       "             'was': 1})"
      ]
     },
     "execution_count": 48,
     "metadata": {},
     "output_type": "execute_result"
    }
   ],
   "source": [
    "from textblob import TextBlob\n",
    "\n",
    "sample_text = ' '.join(cleaned_text.split('.')[:10])\n",
    "\n",
    "blob = TextBlob(sample_text)\n",
    "\n",
    "word_counts = blob.word_counts\n",
    "word_counts\n"
   ]
  },
  {
   "cell_type": "markdown",
   "metadata": {},
   "source": [
    "**32. Визуализируйте частоты вхождения слов средствами Pandas**"
   ]
  },
  {
   "cell_type": "code",
   "execution_count": 49,
   "metadata": {},
   "outputs": [
    {
     "data": {
      "text/plain": [
       "<AxesSubplot:xlabel='Word'>"
      ]
     },
     "execution_count": 49,
     "metadata": {},
     "output_type": "execute_result"
    },
    {
     "data": {
      "image/png": "[encoded data removed]",
      "text/plain": [
       "<Figure size 1000x600 with 1 Axes>"
      ]
     },
     "metadata": {},
     "output_type": "display_data"
    }
   ],
   "source": [
    "# Преобразуем данные в DataFrame и сортируем\n",
    "word_counts_df = pd.DataFrame(list(word_counts.items()), columns=['Word', 'Count'])\n",
    "word_counts_df.sort_values(by='Count', ascending=False, inplace=True)\n",
    "\n",
    "# Визуализация\n",
    "word_counts_df.plot(kind='bar', x='Word', y='Count', figsize=(10,6))\n"
   ]
  },
  {
   "cell_type": "markdown",
   "metadata": {},
   "source": [
    "**33. Какое слово наиболее раз встречается в тексте?**"
   ]
  },
  {
   "cell_type": "code",
   "execution_count": 50,
   "metadata": {},
   "outputs": [
    {
     "data": {
      "text/plain": [
       "Word     chapter\n",
       "Count         48\n",
       "Name: 15, dtype: object"
      ]
     },
     "execution_count": 50,
     "metadata": {},
     "output_type": "execute_result"
    }
   ],
   "source": [
    "# Находим наиболее частое слово\n",
    "most_frequent_word = word_counts_df.iloc[0]\n",
    "most_frequent_word\n"
   ]
  },
  {
   "cell_type": "markdown",
   "metadata": {},
   "source": [
    "# Модель обучения без учителя с использованием кластеризации k средних\n",
    "Для генерации случайного набора пар координат х и у используйте функцию make_blobs и функцию scatter из Matplotlib для их отображения на графике.\n",
    "\n",
    "**34. Сгенерируйте 250 экземпляров и нанесите на график**"
   ]
  },
  {
   "cell_type": "code",
   "execution_count": 51,
   "metadata": {},
   "outputs": [
    {
     "data": {
      "image/png": "[encoded data removed]",
      "text/plain": [
       "<Figure size 640x480 with 1 Axes>"
      ]
     },
     "metadata": {},
     "output_type": "display_data"
    }
   ],
   "source": [
    "from sklearn.datasets import make_blobs\n",
    "import matplotlib.pyplot as plt\n",
    "\n",
    "# Генерация 250 экземпляров\n",
    "X, y = make_blobs(n_samples=250, centers=3, random_state=42)\n",
    "\n",
    "# Построение scatter plot\n",
    "plt.scatter(X[:, 0], X[:, 1], c=y, cmap='viridis')\n",
    "plt.show()\n"
   ]
  },
  {
   "cell_type": "markdown",
   "metadata": {},
   "source": [
    "**35. Определите правильное количество кластеров с методом локтя**"
   ]
  },
  {
   "cell_type": "code",
   "execution_count": 52,
   "metadata": {},
   "outputs": [
    {
     "data": {
      "image/png": "[encoded data removed]",
      "text/plain": [
       "<Figure size 640x480 with 1 Axes>"
      ]
     },
     "metadata": {},
     "output_type": "display_data"
    }
   ],
   "source": [
    "from sklearn.datasets import make_blobs\n",
    "import matplotlib.pyplot as plt\n",
    "\n",
    "# Генерация 250 экземпляров\n",
    "X, y = make_blobs(n_samples=250, centers=3, random_state=42)\n",
    "\n",
    "# Построение scatter plot\n",
    "plt.scatter(X[:, 0], X[:, 1], c=y, cmap='viridis')\n",
    "plt.show()\n"
   ]
  },
  {
   "cell_type": "markdown",
   "metadata": {},
   "source": [
    "**36. Добавьте новую точку данных и определите к какому кластеру оно относится.**"
   ]
  },
  {
   "cell_type": "code",
   "execution_count": 56,
   "metadata": {},
   "outputs": [
    {
     "data": {
      "text/plain": [
       "array([0])"
      ]
     },
     "execution_count": 56,
     "metadata": {},
     "output_type": "execute_result"
    }
   ],
   "source": [
    "from sklearn.cluster import KMeans\n",
    "\n",
    "\n",
    "new_point = np.array([[3, 2]])\n",
    "\n",
    "kmeans = KMeans(n_clusters=3, random_state=42)\n",
    "kmeans.fit(X)\n",
    "cluster = kmeans.predict(new_point)\n",
    "cluster\n"
   ]
  },
  {
   "cell_type": "markdown",
   "metadata": {},
   "source": [
    "**37. Определите на графике какой это кластер?**"
   ]
  },
  {
   "cell_type": "code",
   "execution_count": 57,
   "metadata": {},
   "outputs": [
    {
     "data": {
      "image/png": "[encoded data removed]",
      "text/plain": [
       "<Figure size 640x480 with 1 Axes>"
      ]
     },
     "metadata": {},
     "output_type": "display_data"
    }
   ],
   "source": [
    "# Отобразим кластеры с новой точкой\n",
    "plt.scatter(X[:, 0], X[:, 1], c=y, cmap='viridis')\n",
    "plt.scatter(new_point[0][0], new_point[0][1], c='red', marker='x', s=100)  # Новая точка\n",
    "plt.show()\n"
   ]
  },
  {
   "cell_type": "markdown",
   "metadata": {},
   "source": [
    "**38. Определите расстояние от данной точки до каждого центра.**"
   ]
  },
  {
   "cell_type": "code",
   "execution_count": 58,
   "metadata": {},
   "outputs": [
    {
     "data": {
      "text/plain": [
       "array([[ 1.75889162, 13.28884716,  8.99268097]])"
      ]
     },
     "execution_count": 58,
     "metadata": {},
     "output_type": "execute_result"
    }
   ],
   "source": [
    "# Вычисление расстояний до центроидов\n",
    "distances = kmeans.transform(new_point)\n",
    "distances\n"
   ]
  },
  {
   "cell_type": "markdown",
   "metadata": {},
   "source": [
    "**39.Как найти центроид в кластеризации k-средних?**"
   ]
  },
  {
   "cell_type": "markdown",
   "metadata": {},
   "source": [
    "\n",
    "Центроид в k-средних — это просто среднее значение всех точек в кластере. На каждой итерации алгоритма его координаты пересчитываются как среднее всех точек в кластере."
   ]
  },
  {
   "cell_type": "markdown",
   "metadata": {},
   "source": [
    "**40. Какие задачи можно решить с помощью K-means кластеризация**"
   ]
  },
  {
   "cell_type": "markdown",
   "metadata": {},
   "source": [
    "Сегментация клиентов (например, в маркетинге).\n",
    "Кластеризация текстов.\n",
    "Разделение изображений на сегменты.\n",
    "Анализ поведения пользователей на веб-сайтах."
   ]
  },
  {
   "cell_type": "code",
   "execution_count": null,
   "metadata": {},
   "outputs": [],
   "source": []
  }
 ],
 "metadata": {
  "anaconda-cloud": {},
  "kernelspec": {
   "display_name": "Python 3 (ipykernel)",
   "language": "python",
   "name": "python3"
  },
  "language_info": {
   "codemirror_mode": {
    "name": "ipython",
    "version": 3
   },
   "file_extension": ".py",
   "mimetype": "text/x-python",
   "name": "python",
   "nbconvert_exporter": "python",
   "pygments_lexer": "ipython3",
   "version": "3.7.0"
  }
 },
 "nbformat": 4,
 "nbformat_minor": 4
}
