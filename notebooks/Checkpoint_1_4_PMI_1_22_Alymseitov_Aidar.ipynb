{
 "cells": [
  {
   "cell_type": "markdown",
   "metadata": {
    "id": "HcF9My_FhLuk"
   },
   "source": [
    "## Наука о данных  \n",
    "\n",
    "## Checkpoint 1-4\n",
    "\n",
    "### Общая информация\n",
    "\n",
    "Общее время на выполнение:  40 мин\n",
    "\n",
    "Максимальная оценка за работу — 10 баллов.\n",
    "\n",
    "Сдавать задание по истечении 40 минут нельзя. \n",
    "\n",
    "Задание выполняется самостоятельно. \n",
    "\n",
    "### Формат сдачи\n",
    "Задания сдаются в виде ноутбука с выполненными заданиями. \n",
    "\n",
    "Дайте имя ноутбуку: <span style=\"color: red;\">Checkpoint_1_4_Группа_Фамилия_Имя.ipynb</span>\n",
    "\n",
    "## <span style=\"color: red;\">Примечание:</span>\n",
    "<span style=\"color: red;\">заранее откройте доступ к Вашей работе.  Оценка «0» выставляется  автоматически, если нету доступа к отправленному ноутбуку!</span>"
   ]
  },
  {
   "cell_type": "markdown",
   "metadata": {
    "id": "iWs6ljrIhLus"
   },
   "source": [
    "## 1. Использование языка разметки Markdown\n",
    "\n",
    "1. Какие типы ячеек можно создавать в Jupyter Notebook? <span style=\"color: red;\">Ответ укажите здесь в виде неупорядоченного списка</span> \n",
    "2. Какие библиотеки **Python** для <b>Data Science</b> были использованы Вами? Нужное выделить *жирным шрифтом* и не использованные Вами библиотеки <s>перечекрнуть</s>. (Plotly, NumPy, SciPy, Pandas, Matplotlib, Seaborn, Scikit-learn, TensorFlow, Keras, Scrapy, NLTK, Pattern, Basemap.)\n",
    "3. [Python документация](https://docs.python.org/3/) и NumPy документация. Добавьте ссылку на *NumPy* документацию. Добавьте ссылки на вышеперечисленные библиотеки.\n",
    "4. Оформить следующую формулу с помощью [LaTex](https://ru.wikibooks.org/wiki/%D0%9C%D0%B0%D1%82%D0%B5%D0%BC%D0%B0%D1%82%D0%B8%D1%87%D0%B5%D1%81%D0%BA%D0%B8%D0%B5_%D1%84%D0%BE%D1%80%D0%BC%D1%83%D0%BB%D1%8B_%D0%B2_LaTeX):"
   ]
  },
  {
   "cell_type": "markdown",
   "metadata": {},
   "source": [
    "<img src=\"https://forum.jscourse.com/uploads/default/original/2X/d/daecbb0cfe6a9aa2b74219d93b8da7f3e19b11a1.png\" width=300 height=300 align=\"left\"/>"
   ]
  },
  {
   "cell_type": "markdown",
   "metadata": {},
   "source": [
    "- Markdown\n",
    "- Code\n",
    "- Raw NBConvert\n",
    "\n",
    "**Использованные библиотеки**:\n",
    "- **Plotly**\n",
    "- **NumPy**\n",
    "- **Pandas**\n",
    "- **Matplotlib**\n",
    "  \n",
    "**Неиспользованные библиотеки**:\n",
    "- ~Seaborn~\n",
    "- ~Scikit-learn~\n",
    "- ~TensorFlow~\n",
    "- ~Keras~\n",
    "- ~Scrapy~\n",
    "- ~NLTK~\n",
    "- ~Pattern~\n",
    "- ~Basemap~\n",
    "\n",
    "- [Python документация](https://docs.python.org/3/)\n",
    "- [NumPy документация](https://numpy.org/doc/stable/)\n",
    "- [Plotly](https://plotly.com/python/)\n",
    "- [Pandas](https://pandas.pydata.org/)\n",
    "- [Matplotlib](https://matplotlib.org/)\n",
    "- [Seaborn](https://seaborn.pydata.org/)\n",
    "- [Scikit-learn](https://scikit-learn.org/)\n",
    "- [TensorFlow](https://www.tensorflow.org/)\n",
    "- [Keras](https://keras.io/)\n",
    "- [Scrapy](https://scrapy.org/)\n",
    "- [NLTK](https://www.nltk.org/)\n",
    "- [Pattern](https://www.clips.uantwerpen.be/pattern)\n",
    "- [Basemap](https://matplotlib.org/basemap/)\n",
    "\n",
    "$$ d = \\sqrt{(x_b - x_a)^2 + (y_b - y_a)^2} $$\n",
    "\n",
    "где \\( x_a \\) и \\( y_a \\) — координаты первой точки A, \\\\\n",
    "\\( x_b \\) и \\( y_b \\) — координаты второй точки B.\n",
    "\n",
    "\n"
   ]
  },
  {
   "cell_type": "markdown",
   "metadata": {
    "id": "sUe2vnFGhLuu"
   },
   "source": [
    "**2. Импортировать библиотеки pandas и seaborn**"
   ]
  },
  {
   "cell_type": "code",
   "execution_count": 6,
   "metadata": {},
   "outputs": [],
   "source": [
    "import pandas as pd\n",
    "import seaborn as sns\n"
   ]
  },
  {
   "cell_type": "markdown",
   "metadata": {
    "id": "dneJl9TyhLuv"
   },
   "source": [
    "**3. Импортируйте со [ссылки](https://drive.google.com/uc?id=1ul7viACVLsd4f4Aywv5iOSI49jBMcIk3) csv-файл в набор данных под названием weather_data**"
   ]
  },
  {
   "cell_type": "code",
   "execution_count": 7,
   "metadata": {},
   "outputs": [],
   "source": [
    "weather_data = pd.read_csv('weather_data.csv')\n"
   ]
  },
  {
   "cell_type": "markdown",
   "metadata": {},
   "source": [
    " **4. Узнайте, какие столбцы целого типа (int) а какие вещественного типа(float)?**"
   ]
  },
  {
   "cell_type": "code",
   "execution_count": 8,
   "metadata": {},
   "outputs": [
    {
     "name": "stdout",
     "output_type": "stream",
     "text": [
      "Столбцы целого типа: Index([], dtype='object')\n",
      "Столбцы вещественного типа: Index(['Daily Mean Temperature'], dtype='object')\n"
     ]
    }
   ],
   "source": [
    "weather_data.dtypes  # Вывод типов данных\n",
    "int_columns = weather_data.select_dtypes(include='int').columns  # Целые числа\n",
    "float_columns = weather_data.select_dtypes(include='float').columns  # Вещественные числа\n",
    "\n",
    "print(f\"Столбцы целого типа: {int_columns}\")\n",
    "print(f\"Столбцы вещественного типа: {float_columns}\")\n"
   ]
  },
  {
   "cell_type": "markdown",
   "metadata": {
    "id": "gDD85M7bhLux"
   },
   "source": [
    " **5. Cколько в таблице строк, есть ли в данных пропуски, в каких колонках, и сколько их в каждой из этих колонок? Напишите комментарий к каждой строке**"
   ]
  },
  {
   "cell_type": "code",
   "execution_count": 9,
   "metadata": {
    "id": "PKulur3LhLuy"
   },
   "outputs": [
    {
     "name": "stdout",
     "output_type": "stream",
     "text": [
      "Всего строк в таблице: 366\n",
      "Количество пропусков в каждой колонке:\n",
      "Date                      0\n",
      "Station                   0\n",
      "Daily Mean Temperature    0\n",
      "Daily Total Rainfall      0\n",
      "dtype: int64\n"
     ]
    }
   ],
   "source": [
    "row_count = weather_data.shape[0]  # Количество строк\n",
    "missing_data = weather_data.isnull().sum()  # Пропуски\n",
    "\n",
    "print(f\"Всего строк в таблице: {row_count}\")\n",
    "print(\"Количество пропусков в каждой колонке:\")\n",
    "print(missing_data)\n"
   ]
  },
  {
   "cell_type": "markdown",
   "metadata": {
    "id": "B5ORhP2uhLuz"
   },
   "source": [
    "**5. Заполните пропуски пустой строкой для строковых колонок и нулём для числовых.**"
   ]
  },
  {
   "cell_type": "code",
   "execution_count": 10,
   "metadata": {
    "id": "TlF_JJ2ghLuz"
   },
   "outputs": [],
   "source": [
    "weather_data.fillna({'str': '', 'int': 0, 'float': 0.0}, inplace=True)\n"
   ]
  },
  {
   "cell_type": "markdown",
   "metadata": {},
   "source": [
    "**6. Узнайте среднесуточные и среднегодовые показатели за январь, февраль, март и апрель.**"
   ]
  },
  {
   "cell_type": "code",
   "execution_count": 12,
   "metadata": {},
   "outputs": [],
   "source": [
    "# Преобразование столбца 'Date' в тип datetime\n",
    "weather_data['Date'] = pd.to_datetime(weather_data['Date'])\n",
    "\n",
    "# Теперь можно использовать .dt\n",
    "january_data = weather_data[weather_data['Date'].dt.month == 1]\n"
   ]
  },
  {
   "cell_type": "markdown",
   "metadata": {},
   "source": [
    "**7. Постройте график с boxplot для столбца Daily Mean Temperature**"
   ]
  },
  {
   "cell_type": "code",
   "execution_count": 13,
   "metadata": {},
   "outputs": [
    {
     "data": {
      "text/plain": [
       "<AxesSubplot:ylabel='Daily Mean Temperature'>"
      ]
     },
     "execution_count": 13,
     "metadata": {},
     "output_type": "execute_result"
    },
    {
     "data": {
      "image/png": "[encoded data removed]",
      "text/plain": [
       "<Figure size 640x480 with 1 Axes>"
      ]
     },
     "metadata": {},
     "output_type": "display_data"
    }
   ],
   "source": [
    "sns.boxplot(data=weather_data, y='Daily Mean Temperature')\n"
   ]
  },
  {
   "cell_type": "markdown",
   "metadata": {},
   "source": [
    "**8. С использование Pandas и Seaborn сгруппируйте данные по метеостанциям и покажите сводную статистику для среднесуточной температуры**"
   ]
  },
  {
   "cell_type": "code",
   "execution_count": 14,
   "metadata": {},
   "outputs": [
    {
     "name": "stdout",
     "output_type": "stream",
     "text": [
      "           count       mean       std   min   25%   50%   75%   max\n",
      "Station                                                            \n",
      "Station_A  366.0  11.430328  0.873308  10.0  10.7  11.4  12.2  12.9\n"
     ]
    }
   ],
   "source": [
    "station_stats = weather_data.groupby('Station')['Daily Mean Temperature'].describe()\n",
    "print(station_stats)\n"
   ]
  },
  {
   "cell_type": "markdown",
   "metadata": {},
   "source": [
    "**9. Вывести сводную статистику для столбца Daily Total Rainfall**"
   ]
  },
  {
   "cell_type": "code",
   "execution_count": 15,
   "metadata": {},
   "outputs": [
    {
     "name": "stdout",
     "output_type": "stream",
     "text": [
      "count     366\n",
      "unique     11\n",
      "top       0.6\n",
      "freq       37\n",
      "Name: Daily Total Rainfall, dtype: object\n"
     ]
    }
   ],
   "source": [
    "print(weather_data['Daily Total Rainfall'].describe())\n"
   ]
  },
  {
   "cell_type": "markdown",
   "metadata": {},
   "source": [
    "**10. Создайте новый столбец с именем Rainfall, который является копией столбца Daily Total Rainfall, замените все значения 'tr' на 0.025 с изменением типа на float**"
   ]
  },
  {
   "cell_type": "code",
   "execution_count": 17,
   "metadata": {},
   "outputs": [],
   "source": [
    "weather_data['Rainfall'] = weather_data['Daily Total Rainfall'].replace('tr', 0.025).astype(float)\n"
   ]
  },
  {
   "cell_type": "markdown",
   "metadata": {},
   "source": [
    "**11. Постройте график температуры за 'январь' месяц. И в виде комментария объясните полученные результаты**"
   ]
  },
  {
   "cell_type": "code",
   "execution_count": 18,
   "metadata": {},
   "outputs": [
    {
     "data": {
      "text/plain": [
       "<AxesSubplot:xlabel='Date', ylabel='Daily Mean Temperature'>"
      ]
     },
     "execution_count": 18,
     "metadata": {},
     "output_type": "execute_result"
    },
    {
     "data": {
      "image/png": "[encoded data removed]",
      "text/plain": [
       "<Figure size 640x480 with 1 Axes>"
      ]
     },
     "metadata": {},
     "output_type": "display_data"
    }
   ],
   "source": [
    "jan_data = weather_data[weather_data['Date'].dt.month == 1]\n",
    "sns.lineplot(data=jan_data, x='Date', y='Daily Mean Temperature')\n",
    "\n",
    "# Комментарий: Январь — это зимний месяц, поэтому температуры в этот период обычно ниже. График отображает колебания среднесуточной температуры.\n"
   ]
  },
  {
   "cell_type": "markdown",
   "metadata": {},
   "source": [
    "**12. Постройте график температуры в июне 2016 года**"
   ]
  },
  {
   "cell_type": "code",
   "execution_count": 19,
   "metadata": {},
   "outputs": [
    {
     "data": {
      "text/plain": [
       "<AxesSubplot:xlabel='Date', ylabel='Daily Mean Temperature'>"
      ]
     },
     "execution_count": 19,
     "metadata": {},
     "output_type": "execute_result"
    },
    {
     "data": {
      "image/png": "[encoded data removed]",
      "text/plain": [
       "<Figure size 640x480 with 1 Axes>"
      ]
     },
     "metadata": {},
     "output_type": "display_data"
    }
   ],
   "source": [
    "june_2016_data = weather_data[(weather_data['Date'].dt.month == 6) & (weather_data['Date'].dt.year == 2016)]\n",
    "sns.lineplot(data=june_2016_data, x='Date', y='Daily Mean Temperature')\n"
   ]
  },
  {
   "cell_type": "markdown",
   "metadata": {},
   "source": [
    "**13. Почему очистка данных играет важную роль в анализе? Как во время анализа вы обрабатываете пропущенные значения?**"
   ]
  },
  {
   "cell_type": "markdown",
   "metadata": {},
   "source": [
    "Очистка данных помогает избавиться от пропущенных, неверных или нерелевантных данных, что увеличивает точнaсть анализа и снижает вероятность ошибок.\n",
    "Пропущенные значения можно обрабатывать различными способами: заменять их средними значениями, заполнить специальными значениями (нулями) или удалять строки с пропусками."
   ]
  },
  {
   "cell_type": "markdown",
   "metadata": {},
   "source": [
    "**14. Найдите таблицу цен за какой-то продукт. Проанализируйте эти данные и составьте прогноз стоимости/объема хранения данных через пять лет. Каковы будут цены на на данный продукт через 25 или 50 лет?**"
   ]
  },
  {
   "cell_type": "code",
   "execution_count": 20,
   "metadata": {},
   "outputs": [
    {
     "data": {
      "text/html": [
       "<div>\n",
       "<style scoped>\n",
       "    .dataframe tbody tr th:only-of-type {\n",
       "        vertical-align: middle;\n",
       "    }\n",
       "\n",
       "    .dataframe tbody tr th {\n",
       "        vertical-align: top;\n",
       "    }\n",
       "\n",
       "    .dataframe thead th {\n",
       "        text-align: right;\n",
       "    }\n",
       "</style>\n",
       "<table border=\"1\" class=\"dataframe\">\n",
       "  <thead>\n",
       "    <tr style=\"text-align: right;\">\n",
       "      <th></th>\n",
       "      <th>Year</th>\n",
       "      <th>Price</th>\n",
       "    </tr>\n",
       "  </thead>\n",
       "  <tbody>\n",
       "    <tr>\n",
       "      <th>0</th>\n",
       "      <td>2014</td>\n",
       "      <td>10.0</td>\n",
       "    </tr>\n",
       "    <tr>\n",
       "      <th>1</th>\n",
       "      <td>2015</td>\n",
       "      <td>10.5</td>\n",
       "    </tr>\n",
       "    <tr>\n",
       "      <th>2</th>\n",
       "      <td>2016</td>\n",
       "      <td>11.0</td>\n",
       "    </tr>\n",
       "    <tr>\n",
       "      <th>3</th>\n",
       "      <td>2017</td>\n",
       "      <td>12.0</td>\n",
       "    </tr>\n",
       "    <tr>\n",
       "      <th>4</th>\n",
       "      <td>2018</td>\n",
       "      <td>13.0</td>\n",
       "    </tr>\n",
       "    <tr>\n",
       "      <th>5</th>\n",
       "      <td>2019</td>\n",
       "      <td>14.0</td>\n",
       "    </tr>\n",
       "    <tr>\n",
       "      <th>6</th>\n",
       "      <td>2020</td>\n",
       "      <td>15.0</td>\n",
       "    </tr>\n",
       "    <tr>\n",
       "      <th>7</th>\n",
       "      <td>2021</td>\n",
       "      <td>15.5</td>\n",
       "    </tr>\n",
       "    <tr>\n",
       "      <th>8</th>\n",
       "      <td>2022</td>\n",
       "      <td>16.0</td>\n",
       "    </tr>\n",
       "    <tr>\n",
       "      <th>9</th>\n",
       "      <td>2023</td>\n",
       "      <td>16.8</td>\n",
       "    </tr>\n",
       "  </tbody>\n",
       "</table>\n",
       "</div>"
      ],
      "text/plain": [
       "   Year  Price\n",
       "0  2014   10.0\n",
       "1  2015   10.5\n",
       "2  2016   11.0\n",
       "3  2017   12.0\n",
       "4  2018   13.0\n",
       "5  2019   14.0\n",
       "6  2020   15.0\n",
       "7  2021   15.5\n",
       "8  2022   16.0\n",
       "9  2023   16.8"
      ]
     },
     "execution_count": 20,
     "metadata": {},
     "output_type": "execute_result"
    }
   ],
   "source": [
    "import pandas as pd\n",
    "import numpy as np\n",
    "\n",
    "years = list(range(2014, 2024))\n",
    "prices = [10, 10.5, 11, 12, 13, 14, 15, 15.5, 16, 16.8]\n",
    "\n",
    "price_data = pd.DataFrame({\n",
    "    \"Year\": years,\n",
    "    \"Price\": prices\n",
    "})\n",
    "\n",
    "price_data\n"
   ]
  },
  {
   "cell_type": "markdown",
   "metadata": {},
   "source": [
    "**15. Посетите сайт https://viz.wtf/post/673472354894086144/sticking-your-neck-out Объясните, почему данная визуализация так плоха и забавна.**\n",
    "\n",
    "How much money has Mike Glennon made in his career?"
   ]
  },
  {
   "cell_type": "markdown",
   "metadata": {},
   "source": [
    "Mike Glennon's Career Earnings\n",
    "Mike Glennon, бывший квотербек НФЛ, заработал более $30 миллионов за свою карьеру, главным образом благодаря выгодным контрактам с несколькими командами, несмотря на его ограниченные успехи на поле."
   ]
  }
 ],
 "metadata": {
  "colab": {
   "name": "homework-practice-01-pandas.ipynb",
   "provenance": []
  },
  "kernelspec": {
   "display_name": "Python 3 (ipykernel)",
   "language": "python",
   "name": "python3"
  },
  "language_info": {
   "codemirror_mode": {
    "name": "ipython",
    "version": 3
   },
   "file_extension": ".py",
   "mimetype": "text/x-python",
   "name": "python",
   "nbconvert_exporter": "python",
   "pygments_lexer": "ipython3",
   "version": "3.7.0"
  },
  "varInspector": {
   "cols": {
    "lenName": 16,
    "lenType": 16,
    "lenVar": 40
   },
   "kernels_config": {
    "python": {
     "delete_cmd_postfix": "",
     "delete_cmd_prefix": "del ",
     "library": "var_list.py",
     "varRefreshCmd": "print(var_dic_list())"
    },
    "r": {
     "delete_cmd_postfix": ") ",
     "delete_cmd_prefix": "rm(",
     "library": "var_list.r",
     "varRefreshCmd": "cat(var_dic_list()) "
    }
   },
   "types_to_exclude": [
    "module",
    "function",
    "builtin_function_or_method",
    "instance",
    "_Feature"
   ],
   "window_display": false
  },
  "vscode": {
   "interpreter": {
    "hash": "e7370f93d1d0cde622a1f8e1c04877d8463912d04d973331ad4851f04de6915a"
   }
  }
 },
 "nbformat": 4,
 "nbformat_minor": 1
}
