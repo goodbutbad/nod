{
 "cells": [
  {
   "cell_type": "code",
   "execution_count": null,
   "id": "75e5790a",
   "metadata": {},
   "outputs": [],
   "source": [
    "from textblob import TextBlob\n",
    "from collections import Counter\n",
    "import matplotlib.pyplot as plt\n",
    "import seaborn as sns\n",
    "import requests\n",
    "import nltk\n",
    "\n",
    "# Загружаем ресурс punkt для работы TextBlob\n",
    "nltk.download('punkt')\n",
    "\n",
    "# Скачиваем текст напрямую с сайта Project Gutenberg\n",
    "url = 'https://www.gutenberg.org/files/514/514-0.txt'  # URL для книги \"Little Women\"\n",
    "response = requests.get(url)\n",
    "\n",
    "# Сохраняем текст в файл\n",
    "with open('little_women.txt', 'w', encoding='utf-8') as file:\n",
    "    file.write(response.text)\n",
    "\n",
    "# Чтение текста из файла\n",
    "with open('little_women.txt', 'r', encoding='utf-8') as file:\n",
    "    text = file.read()\n",
    "\n",
    "# Создаем объект TextBlob на основе текста\n",
    "blob = TextBlob(text)\n",
    "\n",
    "# 1. Разбиваем текст на предложения и слова\n",
    "sentences = blob.sentences  # Разбиваем текст на предложения\n",
    "words = blob.words          # Разбиваем текст на слова\n",
    "\n",
    "# Выводим количество предложений и слов\n",
    "print(f\"Количество предложений: {len(sentences)}\")\n",
    "print(f\"Количество слов: {len(words)}\")\n",
    "\n",
    "# 2. Анализ тональности текста\n",
    "# Анализируем тональность всего текста\n",
    "sentiment = blob.sentiment\n",
    "print(f\"Тональность текста (полярность, субъективность): {sentiment}\")\n",
    "\n",
    "# Анализируем тональность первых 5 предложений\n",
    "for sentence in sentences[:5]:\n",
    "    print(sentence)\n",
    "    print(f\"Тональность: {sentence.sentiment}\")\n",
    "\n",
    "# 3. Определение частей речи (POS-tagging)\n",
    "# Определяем части речи для каждого слова\n",
    "pos_tags = blob.tags\n",
    "print(f\"Части речи первых 20 слов: {pos_tags[:20]}\")\n",
    "\n",
    "# 4. Анализ частоты слов\n",
    "# Приводим все слова к нижнему регистру и считаем частоту их появления\n",
    "word_freq = Counter(blob.words.lower())  # Считаем частоту слов\n",
    "common_words = word_freq.most_common(10)  # Находим 10 самых частых слов\n",
    "print(f\"10 самых частых слов: {common_words}\")\n",
    "\n",
    "# 5. Визуализация частоты слов\n",
    "# Построим график самых частых слов\n",
    "words, counts = zip(*common_words)  # Разделяем слова и их частоту для графика\n",
    "\n",
    "plt.figure(figsize=(10, 6))\n",
    "sns.barplot(x=list(words), y=list(counts))\n",
    "plt.title('Топ 10 самых частых слов в \"Little Women\"')\n",
    "plt.show()\n"
   ]
  },
  {
   "cell_type": "code",
   "execution_count": null,
   "id": "261954ec",
   "metadata": {},
   "outputs": [],
   "source": []
  },
  {
   "cell_type": "code",
   "execution_count": null,
   "id": "4ddd1e72",
   "metadata": {},
   "outputs": [],
   "source": []
  },
  {
   "cell_type": "code",
   "execution_count": null,
   "id": "7ab9e3d2",
   "metadata": {},
   "outputs": [],
   "source": []
  },
  {
   "cell_type": "code",
   "execution_count": null,
   "id": "ef1e111d",
   "metadata": {},
   "outputs": [],
   "source": []
  }
 ],
 "metadata": {
  "kernelspec": {
   "display_name": "Python 3 (ipykernel)",
   "language": "python",
   "name": "python3"
  },
  "language_info": {
   "codemirror_mode": {
    "name": "ipython",
    "version": 3
   },
   "file_extension": ".py",
   "mimetype": "text/x-python",
   "name": "python",
   "nbconvert_exporter": "python",
   "pygments_lexer": "ipython3",
   "version": "3.7.0"
  }
 },
 "nbformat": 4,
 "nbformat_minor": 5
}
