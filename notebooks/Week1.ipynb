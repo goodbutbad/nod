{
 "cells": [
  {
   "cell_type": "code",
   "execution_count": 1,
   "id": "3c8c0d6e",
   "metadata": {},
   "outputs": [
    {
     "name": "stdout",
     "output_type": "stream",
     "text": [
      "Введите число: 76\n",
      "Число: 76.0, его квадрат: 5776.0\n"
     ]
    }
   ],
   "source": [
    "def print_square():\n",
    "    number = float(input(\"Введите число: \"))\n",
    "    \n",
    "    square = number ** 2\n",
    "    \n",
    "    print(f\"Число: {number}, его квадрат: {square}\")\n",
    "\n",
    "print_square()\n"
   ]
  },
  {
   "cell_type": "markdown",
   "id": "fffa8313",
   "metadata": {},
   "source": []
  },
  {
   "cell_type": "code",
   "execution_count": null,
   "id": "db72f848",
   "metadata": {},
   "outputs": [],
   "source": []
  }
 ],
 "metadata": {
  "kernelspec": {
   "display_name": "Python 3 (ipykernel)",
   "language": "python",
   "name": "python3"
  },
  "language_info": {
   "codemirror_mode": {
    "name": "ipython",
    "version": 3
   },
   "file_extension": ".py",
   "mimetype": "text/x-python",
   "name": "python",
   "nbconvert_exporter": "python",
   "pygments_lexer": "ipython3",
   "version": "3.7.0"
  }
 },
 "nbformat": 4,
 "nbformat_minor": 5
}
